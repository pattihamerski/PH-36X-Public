{
 "cells": [
  {
   "cell_type": "markdown",
   "id": "20770468-95a9-447d-8692-ef9c1eb6eb33",
   "metadata": {},
   "source": [
    "# Day 2: Reviewing Functions in the Euler Method"
   ]
  },
  {
   "cell_type": "markdown",
   "id": "b38947d5-ec2b-400e-be3b-2d7842414e99",
   "metadata": {},
   "source": [
    "#### &#9989; **Write your name here**"
   ]
  },
  {
   "cell_type": "markdown",
   "id": "8974f84c-3809-4d68-b76b-9078a9f9e644",
   "metadata": {},
   "source": [
    "Today, we will review the use of **functions** in the context of the Euler method.\n",
    "\n",
    "Functions are used in almost every chunk of code, and even before we learned how to *declare* them, we were already *calling* functions for many different purposes (for example, `print`, `append`, `range`, `type`, `np.arange`). Being able to create a sequence of numbers is so much easier when we can quickly conjure them up with a command like `range(100)`, instead of creating a list or array from scratch and adding numbers in manually.\n",
    "\n",
    "Using a function like that is called **calling** a function. This is how we tell the computer to execute function code. Otherwise, the function would exist only as a chunk of code, never executed. The syntax for calling a function goes like `function_name(value1, value2, ...)`, where each argument must be an **existing value** that the computer can plug in when executing the code.\n",
    "\n",
    "When calling a function, we only need to know **the function name, the values we want give as arguments, and the format to expect for the output.** For example, when calling the `range` function, we need to provide certain values such as the end of the range, and we can expect it to output a sequence of integers. We don't need to know the implementation of how `range` converts the arguments into the output -- it might as well be a black box. "
   ]
  },
  {
   "cell_type": "markdown",
   "id": "83253c04-0bc3-43c5-aa7c-9669e5f4c8c6",
   "metadata": {},
   "source": [
    "<img src=\"https://raw.githubusercontent.com/pattihamerski/PH-36X-Public/refs/heads/main/36X-23-24/images/function-black-box.png\" alt=\"\" width=\"500\"/>"
   ]
  },
  {
   "cell_type": "markdown",
   "id": "025f9992-708e-42e9-ae35-be5d8190fda0",
   "metadata": {},
   "source": [
    "In pseudocode, we can assume any given function was **declared** like this:\n",
    "\n",
    "```\n",
    "def function(arg1, arg2, ...): \n",
    "    implementation\n",
    "    return output \n",
    "```\n",
    "\n",
    "When we **declare** a new function, the computer does not immediately execute that code. Furthermore, the **arguments** in a function definition *do not* have pre-existing values, but instead act as placeholder variables which won't be assigned values until the function is **called** with inputs that *do* have values, at which point the computer executes the function code for the first time.\n",
    "\n",
    "The purpose of declaring new functions is to take a commonly used chunk of code, and store it for when the function is called later."
   ]
  },
  {
   "cell_type": "markdown",
   "id": "cc8705f6-4f06-489c-a31f-361ea92b90e1",
   "metadata": {},
   "source": [
    "---\n",
    "## Part 1: Documenting function code\n",
    "\n",
    "When declaring a function, it's important to document what the function is meant to be used for. Include comments (or a docstring) specifying the **function's purpose, intended arguments, and expected output.** You can't count on the code alone to speak for itself. See an example below."
   ]
  },
  {
   "cell_type": "code",
   "execution_count": 1,
   "id": "7e614858-8779-42c5-881b-e0f1b3ba34eb",
   "metadata": {},
   "outputs": [],
   "source": [
    "## example of function documentation\n",
    "\n",
    "# celcius: converts a temperature (from K or degrees F) to Celcius\n",
    "# T: temperature value\n",
    "# unit: indicates temperature units, must be \"K\" or \"F\", defaults to Fahrenheit\n",
    "# output: converted temperature value\n",
    "def celcius(T, unit=\"F\"):\n",
    "    if unit == \"K\":\n",
    "        return T - 273.15\n",
    "    elif unit == \"F\":\n",
    "        return (F - 32) * 5/9\n",
    "    else:\n",
    "        print(\"incorrect units provided, use K or F\")"
   ]
  },
  {
   "cell_type": "markdown",
   "id": "cc4fe4ac-0c7b-4365-949a-575f0a897e40",
   "metadata": {},
   "source": [
    "&#9989; **Task 1.1:** Add documentation to the function below, representing the time-derivative of temperature."
   ]
  },
  {
   "cell_type": "code",
   "execution_count": 3,
   "id": "2e72ff8b-0c23-43a0-a59c-a980902d53a1",
   "metadata": {},
   "outputs": [],
   "source": [
    "# add documentation\n",
    "\n",
    "def dTdt(T, tau, Tenv):\n",
    "    return -1 / tau * (T - Tenv)"
   ]
  },
  {
   "cell_type": "markdown",
   "id": "b2a776ef-db99-498c-b0cc-a535a472524e",
   "metadata": {},
   "source": [
    "&#9989; **Task 1.2:** Alter the function to provide **default values** to `tau` and `Tenv` ($\\tau = 500$ 1/s and $T_\\text{env} = 20$ °C).  Also include updated documentation -- when documenting arguments, be sure to indicate if the argument has a default value."
   ]
  },
  {
   "cell_type": "code",
   "execution_count": 3,
   "id": "298b7750-efdf-4cf9-8591-ff153cd65298",
   "metadata": {},
   "outputs": [],
   "source": [
    "# alter the function and add documentation\n",
    "\n",
    "def dTdt(T, tau, Tenv):\n",
    "    return -1 / tau * (T - Tenv)"
   ]
  },
  {
   "cell_type": "markdown",
   "id": "a3818da2-95ce-4a15-9ddd-eedf6c71ddb7",
   "metadata": {},
   "source": [
    "&#9989; **Task 1.3:** Below, try calling your function with different inputs to make sure it is using the default argument values you wrote above -- you should only need to specify a single value, representing `T`."
   ]
  },
  {
   "cell_type": "code",
   "execution_count": 4,
   "id": "55050291-c44a-4979-b3a8-126361402290",
   "metadata": {},
   "outputs": [
    {
     "ename": "TypeError",
     "evalue": "dTdt() missing 2 required positional arguments: 'tau' and 'Tenv'",
     "output_type": "error",
     "traceback": [
      "\u001b[0;31m---------------------------------------------------------------------------\u001b[0m",
      "\u001b[0;31mTypeError\u001b[0m                                 Traceback (most recent call last)",
      "Cell \u001b[0;32mIn[4], line 3\u001b[0m\n\u001b[1;32m      1\u001b[0m \u001b[38;5;66;03m# change the input and re-run a few times to make sure your function is working\u001b[39;00m\n\u001b[0;32m----> 3\u001b[0m dTdt(\u001b[38;5;241m100\u001b[39m)\n",
      "\u001b[0;31mTypeError\u001b[0m: dTdt() missing 2 required positional arguments: 'tau' and 'Tenv'"
     ]
    }
   ],
   "source": [
    "# change the input a few times from 100 to other temperature values\n",
    "# re-run this cell a few times to make sure your function is working\n",
    "\n",
    "dTdt(100)"
   ]
  },
  {
   "cell_type": "markdown",
   "id": "b5ae3a49-d6e7-4f56-a50f-6c011241057a",
   "metadata": {},
   "source": [
    "---\n",
    "## Part 2: Planning an Euler function\n",
    "\n",
    "Using documentation like in Part 1 can also help when planning out a complicated function declaration. \n",
    "\n",
    "You main task today: **To define a function that executes the Euler method.**\n",
    "\n",
    "The Euler method uses a **known** derivative to approximate values of an **unknown** physical quantity. \n",
    "\n",
    "With that in mind, your function will need arguments that encompass the information needed to use the Euler method:\n",
    "- an initial value for $y$ (the dependent variable, or unknown physical quantity)\n",
    "- equally spaced values of $x$ (the independent variable), with a small step-size $\\Delta x$\n",
    "- the known derivative $dy/dx$\n",
    "    - ***To simplify your solution a little bit, you can assume the derivative $dy/dx$ depends only on $y$. This means $dy/dx =: f(x_i, y_i) = f(y_i)$.***\n",
    "\n",
    "And your function will need to output:\n",
    "- values of $y$, corresponding to the provided values of $x$"
   ]
  },
  {
   "cell_type": "markdown",
   "id": "69af9a4a-7ad5-4b32-b98a-81a34fdb615b",
   "metadata": {},
   "source": [
    "&#9989; **Task 2.1:** Plan out your solution using the \"black box\" approach and/or psuedocode. You don't have to know how to implement your function yet, but you should try your best to specify as much as you can about the **arguments** and the **output** of your Euler function."
   ]
  },
  {
   "cell_type": "markdown",
   "id": "12f10ecc-979c-4b27-a32a-57134e72be9b",
   "metadata": {},
   "source": [
    "**your plan here, and/or on your whiteboard at your table**\n",
    "\n",
    "```\n",
    "feel free\n",
    "to write\n",
    "psuedocode\n",
    "```"
   ]
  },
  {
   "cell_type": "markdown",
   "id": "6b5309c7-c4b6-401a-9156-24138ebe3e7e",
   "metadata": {},
   "source": [
    "#### &#128721; **Stop here and check in with an instructor.**"
   ]
  },
  {
   "cell_type": "markdown",
   "id": "d38a0020-fed9-49c5-86f6-3fbbde36cdef",
   "metadata": {},
   "source": [
    "&#9989; **Task 2.2:** Before diving into implementation, **write the documentation for your function.** You should have enough information in your plan to do this -- remember, you don't have to work out what's in the \"black box\" yet, because documentation is still just focused on the purpose of the function, its arguments, and its output."
   ]
  },
  {
   "cell_type": "code",
   "execution_count": null,
   "id": "c127760b-c6a4-45cf-a8bf-55b4339827b5",
   "metadata": {},
   "outputs": [],
   "source": [
    "# your answer here\n",
    "# feel free to use the template below, or not\n",
    "\n",
    "# function purpose:\n",
    "# arg1:\n",
    "# arg2:\n",
    "# arg3:\n",
    "# output:"
   ]
  },
  {
   "cell_type": "markdown",
   "id": "f0d2b2f4-cc3c-42bd-863c-83a93768b83f",
   "metadata": {},
   "source": [
    "&#9989; **Task 2.3:** How are you handling the **known derivative** in your function arguments? If you are planning for the derivative to be *another* function, briefly write that documentation as well. If you have other plans for the known derivative, describe below.\n",
    "\n",
    "Remember, you can assume the derivative $dy/dx$ depends only on $y$. This means $dy/dx =: f(x_i, y_i) = f(y_i)$."
   ]
  },
  {
   "cell_type": "code",
   "execution_count": null,
   "id": "af20884e-7935-4a0a-98f8-efcd9c228303",
   "metadata": {},
   "outputs": [],
   "source": [
    "# document the known derivative, or describe your plan below"
   ]
  },
  {
   "cell_type": "markdown",
   "id": "d48dc1c4-8241-4aec-9f66-552a357afa7e",
   "metadata": {},
   "source": [
    "**write your plan for the known derivative here**"
   ]
  },
  {
   "cell_type": "markdown",
   "id": "40eed450-fa76-462e-9d0f-39af43adc9f2",
   "metadata": {},
   "source": [
    "#### &#128721; **Stop here and check in with an instructor.**"
   ]
  },
  {
   "cell_type": "markdown",
   "id": "c04c99ad-e967-43f3-8795-53dac6a063f8",
   "metadata": {},
   "source": [
    "---\n",
    "## Part 3: Coding your Euler function"
   ]
  },
  {
   "cell_type": "markdown",
   "id": "f3d14883-8257-4d67-a66c-e7fce980ceab",
   "metadata": {},
   "source": [
    "&#9989; **Task 3.1:** Copy your documentation for your function from Task 2.2 below, and write a couple lines of code below it: the function definition, and the return/output line. Leave the implementation empty for now. It should be structured something like this:\n",
    "\n",
    "```\n",
    "# your\n",
    "# function\n",
    "# documentation\n",
    "\n",
    "def Euler(arg1, arg2, arg3):\n",
    "    # implementation\n",
    "    # empty\n",
    "    # for now\n",
    "    return output\n",
    "```"
   ]
  },
  {
   "cell_type": "code",
   "execution_count": 5,
   "id": "5f55bca3-6e7a-4449-9162-aa197968cd3b",
   "metadata": {},
   "outputs": [],
   "source": [
    "# your answer here"
   ]
  },
  {
   "cell_type": "markdown",
   "id": "5729f036-293b-411d-9716-69acf7ae9dd0",
   "metadata": {},
   "source": [
    "&#9989; **Task 3.2:** It's time to plan your implementation. Consult the resources you have: your plans from Part 2, your coded Euler method from Day 1, and/or your instructors. Write your plan for converting arguments into output in code, on your whiteboard and/or in psuedocode below."
   ]
  },
  {
   "cell_type": "markdown",
   "id": "bfe01fe4-ad59-4fa4-9dbb-7022e1285623",
   "metadata": {},
   "source": [
    "**your plan here, and/or on your whiteboard at your table**\n",
    "\n",
    "```\n",
    "feel free\n",
    "to write\n",
    "psuedocode\n",
    "```"
   ]
  },
  {
   "cell_type": "markdown",
   "id": "7c123681-aa90-4252-8654-4dd1d576b914",
   "metadata": {},
   "source": [
    "&#9989; **Task 3.3:** Copy and paste your starting point from Task 3.1, and write your implementation into your function!"
   ]
  },
  {
   "cell_type": "code",
   "execution_count": null,
   "id": "446ab2a3-9e28-4b8c-b11c-c2fe7a0e14da",
   "metadata": {},
   "outputs": [],
   "source": [
    "# your answer here"
   ]
  },
  {
   "cell_type": "markdown",
   "id": "36d9bf41-bfd2-4036-81df-72cf3b89facf",
   "metadata": {},
   "source": [
    "#### &#128721; **Stop here and check in with an instructor.**"
   ]
  },
  {
   "cell_type": "markdown",
   "id": "ab4d7401-50ee-4639-a7c2-137c38f1c424",
   "metadata": {},
   "source": [
    "---\n",
    "## Part 4: Testing out your function"
   ]
  },
  {
   "cell_type": "markdown",
   "id": "9c29cbd0-64e7-442c-855e-2988fb3b987c",
   "metadata": {},
   "source": [
    "&#9989; **Task 4.1:** Try out your function, using `dTdt` as your derivative, and the provided inputs. Feel free to alter the provided values to match your planned arguments."
   ]
  },
  {
   "cell_type": "code",
   "execution_count": 18,
   "id": "bdc29298-3b5d-4d80-b46d-683110e6b352",
   "metadata": {},
   "outputs": [],
   "source": [
    "# provided argument values\n",
    "# probably more values than you need for your function\n",
    "\n",
    "import numpy as np\n",
    "\n",
    "# known derivative\n",
    "# T: temperature\n",
    "# tau and Tenv are constants, defaulting to 500 1/s and 20 degrees C\n",
    "# output: dT/dt\n",
    "def dTdt(T, tau=500, Tenv=20):\n",
    "    return -1 / tau * (T - Tenv)\n",
    "\n",
    "# initial temp\n",
    "T0 = 100\n",
    "\n",
    "# time values\n",
    "t0 = 0\n",
    "tf = 3600\n",
    "dt = 1\n",
    "t_vals = np.arange(t0, tf, dt)"
   ]
  },
  {
   "cell_type": "code",
   "execution_count": 19,
   "id": "eba46469-9d40-4de1-ab74-b4244293e0df",
   "metadata": {},
   "outputs": [],
   "source": [
    "# your answer here\n",
    "# call your Euler function here"
   ]
  },
  {
   "cell_type": "markdown",
   "id": "5141c3d0-a150-4c48-87ea-ca4f279830e2",
   "metadata": {},
   "source": [
    "&#9989; **Task 4.2:** Using your output, create a visualization of temperature vs. time (i.e., temperature on the y-axis, time on the x-axis). Label your plot clearly."
   ]
  },
  {
   "cell_type": "code",
   "execution_count": null,
   "id": "1b18502c-8771-440c-8b0d-b93c2477ac47",
   "metadata": {},
   "outputs": [],
   "source": [
    "# your answer here"
   ]
  },
  {
   "cell_type": "markdown",
   "id": "4e8afa56-2f4d-4035-ac53-1dbfa7e2d1ed",
   "metadata": {},
   "source": [
    "&#9989; **Task 4.3:** Try out your function, using `dIdt` as your derivative, which represents the current in an RC circuit as a capacitor charges. Feel free to alter the provided values to match your planned arguments. Using your output, create a visualization of current vs. time. Label your plot clearly."
   ]
  },
  {
   "cell_type": "code",
   "execution_count": 22,
   "id": "8081d1b7-bcdf-41d1-a213-9a6d2fa71d82",
   "metadata": {},
   "outputs": [],
   "source": [
    "# provided argument values\n",
    "# probably more values than you need for your function\n",
    "\n",
    "# known derivative\n",
    "# I: current\n",
    "# R and C are constants, defaulting to 100 ohms and 6 mF\n",
    "# output: dI/dt\n",
    "def dIdt(I, R=100, C=0.006):\n",
    "    return -I / (R * C)\n",
    "\n",
    "# initial current value\n",
    "I0 = 0.05\n",
    "\n",
    "# time values\n",
    "t0 = 0\n",
    "tf = 2\n",
    "dt = 0.01\n",
    "t_vals = np.arange(t0, tf, dt)"
   ]
  },
  {
   "cell_type": "code",
   "execution_count": 23,
   "id": "8db34fb1-8c13-4317-bd06-965816649fae",
   "metadata": {},
   "outputs": [],
   "source": [
    "# your answer here\n",
    "# call your Euler function here"
   ]
  }
 ],
 "metadata": {
  "kernelspec": {
   "display_name": "Python 3 (ipykernel)",
   "language": "python",
   "name": "python3"
  },
  "language_info": {
   "codemirror_mode": {
    "name": "ipython",
    "version": 3
   },
   "file_extension": ".py",
   "mimetype": "text/x-python",
   "name": "python",
   "nbconvert_exporter": "python",
   "pygments_lexer": "ipython3",
   "version": "3.12.4"
  }
 },
 "nbformat": 4,
 "nbformat_minor": 5
}
