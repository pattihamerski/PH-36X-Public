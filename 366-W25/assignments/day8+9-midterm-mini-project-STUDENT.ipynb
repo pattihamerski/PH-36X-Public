{
 "cells": [
  {
   "cell_type": "markdown",
   "id": "5819e74f-8eef-4aa8-aad5-457e01ec1e64",
   "metadata": {
    "tags": []
   },
   "source": [
    "# Days 8+9: Midterm Mini-Project"
   ]
  },
  {
   "cell_type": "markdown",
   "id": "3f91d449-92e9-433e-86bf-f71ccc479c6e",
   "metadata": {},
   "source": [
    "### &#9989; **Write your name here**"
   ]
  },
  {
   "cell_type": "markdown",
   "id": "ba62f31b-1e21-40d3-ba41-0b2bf7733019",
   "metadata": {},
   "source": [
    "You will have two class periods to work on this assignment. Collaboration is welcome during the mini-project, but you will be expected to submit your own individual work.\n",
    "\n",
    "For more details about what's expected of you for this assignment, see the [**description**](https://canvas.oregonstate.edu/courses/1991692/files/109680791) and the [**grading rubric**](https://canvas.oregonstate.edu/courses/1991692/files/109680793)."
   ]
  },
  {
   "cell_type": "markdown",
   "id": "7ccf6f48-37f2-452f-8508-64a1fc82b7c9",
   "metadata": {},
   "source": [
    "**&#9989; Collaboration Statement (5 points):**\n",
    "\n",
    "Clearly state which peers you collaborated with, and describe the level of collaboration. You can wait until the end of the project to fill this out.\n",
    "- List the peers your collaborated with.\n",
    "- For each peer, describe the level of collaboration:\n",
    "    - Brainstorming ideas together.\n",
    "    - Using an idea that they came up with, but making it own by building your plan and code\n",
    "    - Planning and/or writing code together.\n",
    "    - Referencing code that your peer wrote to help you build your solution.\n",
    "    - Copying code directly from your peer **(not allowed -- don't do this!)**.\n",
    "- Feel free to expand on the above bullets to say more about how you collaborated.\n",
    "- If you worked completely on your own, simply write that below."
   ]
  },
  {
   "cell_type": "markdown",
   "id": "d1de41f8-289e-4514-85f3-2aa559b495ad",
   "metadata": {},
   "source": [
    "**/your answer here/**"
   ]
  },
  {
   "cell_type": "markdown",
   "id": "dfeb8aae-e9de-4c2e-9465-02212f70fdc2",
   "metadata": {},
   "source": [
    "---\n",
    "\n",
    "## &#128311; Mini Project: Detecting Electric Charges\n",
    "\n",
    "In this mini-project, use your computing skills to infer the locations and values of charges, based solely on electric potential data.\n",
    "\n",
    "You are given three data files, each of which corresponds to \"slice\" of electric potential that are parallel to the $xy$ plane. Each slice is a two-dimensional area, each area constant in $z$. The parallel slices stack exactly on top of each other like in the image shown below.\n",
    "\n",
    "<img src=\"https://raw.githubusercontent.com/pattihamerski/PH-36X-Public/refs/heads/main/images/days8%2B9-layers.png\"\n",
    "     alt=\"Three planes parallel to the xy plane, with constant z-values: z = -1 meters, 0, and 1 meters.\"\n",
    "     width=\"500\"\n",
    "/>\n",
    "\n",
    "The slices provided are (all units in meters):\n",
    "- Slice at $z=-1$, spanning the area covering $-10 \\le x \\le 10$ and $-5 \\le y \\le 5$, stored in `\"V_minus.tsv\"`.\n",
    "- Slice at $z=0$, spanning the area covering $-10 \\le x \\le 10$ and $-5 \\le y \\le 5$, stored in `\"V_zero.tsv\"`.\n",
    "- Slice at $z=1$, spanning the area covering $-10 \\le x \\le 10$ and $-5 \\le y \\le 5$, stored in `\"V_plus.tsv\"`.\n",
    "\n",
    "By plotting the electric potential from each slice, you can estimate where charges could be located that would produce the given potential. You can test your predictions by creating charges in code and computing the corresponding potential to see how it compares.\n",
    "\n",
    "In this mini-project, **your main goal is to use the provided electric potential data to detect the values of existing charges and where they are located in 3D space, with as much precision as possible.**"
   ]
  },
  {
   "cell_type": "markdown",
   "id": "43d3e5fe-8839-4c81-8e26-c6fae89a64ac",
   "metadata": {},
   "source": [
    "More specific instructions are provided further below. You are given the code below code to start with, which was used in the Day 7 assignment. Documentation is not provided, so if you *do* use these functions, be sure to document them properly.\n",
    "\n",
    "<p style=\"color:red;\"><b>\n",
    "NOTE: There was an error in the original data files. Electric potential was not calculated, instead a different, non-physical quantity was. In this mini-project, use the equation below and the <code>quantity_xy</code> function, instead of electric potential.\n",
    "</b></p>\n",
    "\n",
    "$$\\text{quantity}(\\vec{r}) = \\sum_i \\frac{kq_i}{\\left|\\vec{r}-\\vec{r_i}\\right|^2}$$\n",
    "\n",
    "```\n",
    "k = 8.99e9\n",
    "\n",
    "def quantity_xy(x, y, charges, positions):\n",
    "    quantity = 0\n",
    "    for i in range(len(charges)):\n",
    "        qi = charges[i]\n",
    "        rix = positions[i][0]\n",
    "        riy = positions[i][1]\n",
    "        riz = positions[i][2]\n",
    "        quantity += k * qi / ((x - rix) ** 2 + (y - riy) ** 2 + riz ** 2)\n",
    "    return quantity\n",
    "\n",
    "def charge_rod(Q, N, start, end):\n",
    "    dq = Q / N\n",
    "    charges = dq * np.ones(N)\n",
    "    positions = np.linspace(start, end, N)\n",
    "    return charges, positions\n",
    "```"
   ]
  },
  {
   "cell_type": "markdown",
   "id": "3a4dbaad-7e04-43f2-be79-540d5847cba0",
   "metadata": {},
   "source": [
    "**&#9989; Main Tasks**  \n",
    "These tasks are meant to guide you in planning and executing a solution. You must address all the tasks to get full credit for this mini-project. Keep in mind that your overall work must be organized to **clearly address the main goal above** as well.\n",
    "\n",
    "**In your solution, you must:**  \n",
    "&#9989; Outline a detailed plan for your project solution that address the main goal while incorporating all of the tasks below.  \n",
    "&#9989; Produce data visualizations of the three electric potential slices from the data files.  \n",
    "&#9989; Based on your visualizations, estimate where you think charges could be located, using your visualizations as evidence to justify your prediction.  \n",
    "&#9989; Test your prediction by creating charges in code, computing electric potential, and comparing your results with the data and/or your visualizations.  \n",
    "&#9989; Establish a quantitative measure of \"closeness\" that you can use to determine how close your collection of charges has gotten to the potential data.  \n",
    "&#9989; Update your prediction and try to make your charges as accurate as possible to the data. When you have gotten as close as you can get in the time provided, state where you think the charges actually are, using evidence from your quantitative measure and visualizations of your results.  \n",
    "&#9989; Summarize the findings of your overall solution clearly.  \n",
    "&#9989; Directly answer the limitation and reflection prompts below.  \n",
    "\n",
    "**From here, you can add additional cells below to include your solution.**"
   ]
  },
  {
   "cell_type": "markdown",
   "id": "62c5f939-d8b7-41f6-8faa-4afbef50edf6",
   "metadata": {},
   "source": [
    "---"
   ]
  },
  {
   "cell_type": "markdown",
   "id": "971a7caf-1bab-4711-83b0-de4cc388b38a",
   "metadata": {},
   "source": [
    "**Address these questions after completing the rest of your solution.**\n",
    "\n",
    "You just used potential data to detect several charges and charge distributions in 3D space. But what could be improved upon with more time and/or more specialize computing tools? Or what if you had a more limited set of information about the electric potential? How would that affect your solution?"
   ]
  },
  {
   "cell_type": "markdown",
   "id": "c157d0f7-f0a9-4b08-af08-ead4e45971dd",
   "metadata": {},
   "source": [
    "**&#9989; Limitation 1:** Consider the prompts below, and **write a response**:\n",
    "- What quantitive measure of \"closeness\" did you use to evaluate the accuracy of your collection of charges?\n",
    "- Choose an alternative quantitative measure of closeness, like least-squares, relative error, or something else.\n",
    "- How do you think using the different measure would affect the results of your solution? You do not need to redo your calculations, but consider how this change would alter the way you compared and updated between different charge distributions."
   ]
  },
  {
   "cell_type": "markdown",
   "id": "79afdca4-4322-4c67-929c-5f9ae7b0ee1e",
   "metadata": {},
   "source": [
    "**/your answer here/**"
   ]
  },
  {
   "cell_type": "markdown",
   "id": "5bc0a5f5-a901-406d-a967-1b6bb2d0f5ad",
   "metadata": {},
   "source": [
    "**&#9989; Limitation 2:** Consider the prompts below, and **write a response**:\n",
    "- Consider if you **only** had access to one slice of electric potential, at $z=0$.\n",
    "- How would the limited information have affected the way you arrived at a solution?\n",
    "- How would the limited information have affected your confidence in your answer?\n",
    "- If you had found a charge distribution that produced an electric potential that **exactly matched** the single slice of data, how confident would you be in that charge distribution?"
   ]
  },
  {
   "cell_type": "markdown",
   "id": "389cdb04-f3d6-4625-a05b-eb5c5f718e09",
   "metadata": {},
   "source": [
    "**/your answer here/**"
   ]
  },
  {
   "cell_type": "markdown",
   "id": "73b338db-e7ec-47f5-9739-2c68b451af14",
   "metadata": {},
   "source": [
    "**&#9989; Reflection 1:** Reflect on how you used outside resources during this project. **Write a response** to the following prompts:\n",
    "- What coding techniques did you look up and figure out how to implement in your project?\n",
    "- What explanations on computing concepts did you look up to get a better understanding of?\n",
    "- What resources did you consult, and how did you use them?\n",
    "- Where in your project did you use Gen-AI (if at all), and how did you ensure your solution reflected your own interpretation of the Gen-AI outputs?"
   ]
  },
  {
   "cell_type": "markdown",
   "id": "2cfe007c-41d5-4c33-9d4f-337fdc163369",
   "metadata": {},
   "source": [
    "**/your answer here/**"
   ]
  },
  {
   "cell_type": "markdown",
   "id": "af0002f5-db51-4746-a470-a8a5027b2b44",
   "metadata": {},
   "source": [
    "**&#9989; Reflection 2:** Reflect on the challenges you faced when doing this project. Consider the questions below, and identify at least two specific challenges.\n",
    "\n",
    "**Use these questions to reflect (don't write yet)** and identify at least two main challenges:\n",
    "- What challenges did you face that you weren't expecting?\n",
    "- What errors did you run into that were challenging to resolve?\n",
    "- Which tasks took longer than you thought they would, or what code did you not know how to write at first and ittook you a while to figure out?\n",
    "\n",
    "**Write a response** to the following prompts:\n",
    "- Which two challenges did you identify? Describe the challenge in detail, including your approach to overcoming it.\n",
    "- What did you learn from these challenges?\n"
   ]
  },
  {
   "cell_type": "markdown",
   "id": "f5c5c8d2-89a4-4115-9d9c-083e3d9bdb41",
   "metadata": {},
   "source": [
    "**/your answer here/**"
   ]
  }
 ],
 "metadata": {
  "kernelspec": {
   "display_name": "Python 3 (ipykernel)",
   "language": "python",
   "name": "python3"
  },
  "language_info": {
   "codemirror_mode": {
    "name": "ipython",
    "version": 3
   },
   "file_extension": ".py",
   "mimetype": "text/x-python",
   "name": "python",
   "nbconvert_exporter": "python",
   "pygments_lexer": "ipython3",
   "version": "3.12.4"
  }
 },
 "nbformat": 4,
 "nbformat_minor": 5
}
