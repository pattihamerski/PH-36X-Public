{
 "cells": [
  {
   "cell_type": "markdown",
   "id": "9aeaac00-92c7-4ce2-9631-0325bfffd4bd",
   "metadata": {},
   "source": [
    "# Day 6: Plotting Electric Potential Data"
   ]
  },
  {
   "cell_type": "markdown",
   "id": "0be719bc-a31a-4b62-aa91-bde94e038e3f",
   "metadata": {},
   "source": [
    "#### &#9989; **Write your name here**"
   ]
  },
  {
   "cell_type": "markdown",
   "id": "0c3a9388-1fee-420c-a682-a1f982da9eda",
   "metadata": {},
   "source": [
    "Today, we will read data from a file, `\"potential-table.txt\"`. Data files can be located in many different places. Sometimes they come from another server where data are being stored. Sometimes they are found on the internet, and you can access the data through a URL or a download. Often, like with today's assignment, data files can be **local**, meaning they are in the same file system as the computer program you are writing.\n",
    "\n",
    "When we read a local data file in Python, we need to specify a **filepath** to tell the computer where to find the local file. If the file is located in the *same* folder (also called a \"directory\") as your program, you can access it directly using its name:\n",
    "\n",
    "```\n",
    "\"filename.txt\"\n",
    "```\n",
    "\n",
    "If the file is located in a directory (or nested in multiple directories), you can access it by typing out the *path* that it takes to get from your program, to the data file:\n",
    "\n",
    "```\n",
    "\"directory1/directory2/datafile.txt\"\n",
    "```\n",
    "\n",
    "Alternatively, you can type out the path it would take from the home directory, usually starting with `\"/\"` on a Mac, or `\"C:/\"` on a Windows:\n",
    "\n",
    "```\n",
    "\"/Users/patti/Documents/directory1/directory2/datafile.txt\"\n",
    "\"C:/Users/patti/Documents/directory1/directory2/datafile.txt\"\n",
    "```\n",
    "\n",
    "You can see the slides for more details. For now, we recommend **ensuring your data file is in the same directory** as your Day 6 assignment."
   ]
  },
  {
   "cell_type": "markdown",
   "id": "ef0ecf05-5eae-48e3-bdcb-96767abe94b0",
   "metadata": {},
   "source": [
    "&#9989; **Task 0.1:** Run the code below to see all `.txt` files in the same directory as your assignment. Make sure you can see `potential-table.txt` in this list."
   ]
  },
  {
   "cell_type": "code",
   "execution_count": 2,
   "id": "9ba5cbaf-c4f2-43be-8f99-cd57c68e36cd",
   "metadata": {},
   "outputs": [
    {
     "name": "stdout",
     "output_type": "stream",
     "text": [
      "potential-table.txt\n"
     ]
    }
   ],
   "source": [
    "# run this cell if you are a Mac\n",
    "!ls *.txt"
   ]
  },
  {
   "cell_type": "code",
   "execution_count": 3,
   "id": "a59cd177-d854-4443-ab81-1e921a91449c",
   "metadata": {},
   "outputs": [
    {
     "name": "stdout",
     "output_type": "stream",
     "text": [
      "zsh:1: command not found: dir\n"
     ]
    }
   ],
   "source": [
    "# run this cell if you are a Windows\n",
    "!dir *.txt"
   ]
  },
  {
   "cell_type": "markdown",
   "id": "4f68c4fb-7f32-4eaa-bc9a-8e104565d6cf",
   "metadata": {},
   "source": [
    "---\n",
    "## Part 1: Reading data\n",
    "\n",
    "From here, you should be able to load your data file into this assignment. First, open the file on your computer to see what it looks like inside. You should see something like this:\n",
    "\n",
    "<img src=\"https://raw.githubusercontent.com/pattihamerski/PH-36X-Public/refs/heads/main/images/data-file-preview.png\"\n",
    "     alt=\"Preview of the electric potential data file, shows 5 rows of explanation before the data is listed, formatted using a fixed width between cells\"\n",
    "     width=\"500\"\n",
    "/>\n",
    "\n",
    "There are a couple important features you'll need to keep in mind as you work with this data:\n",
    "- The first five lines of the file do not contain any data, but they do describe how the file is formatted and types of data it contains.\n",
    "- The data itself is arranged in the fixed-width format."
   ]
  },
  {
   "cell_type": "markdown",
   "id": "33282714-8ace-4eaf-82f9-52dca9c2da2b",
   "metadata": {},
   "source": [
    "&#9989; **Task 1.1:** Read the file into this notebook using the `read_fwf` function from the pandas library, designed for reading fixed-width data files like `potential-table.txt`. Store the DataFrame into a variable so you can continue to use it through the assignment.\n",
    "\n",
    "*Hint: You'll need to figure out a way to skip the first five rows of the file that don't have any data in them.*"
   ]
  },
  {
   "cell_type": "code",
   "execution_count": 16,
   "id": "ebf7acc1-98f1-4605-84ad-74d3cd9753ab",
   "metadata": {},
   "outputs": [],
   "source": [
    "import numpy as np\n",
    "import pandas as pd\n",
    "\n",
    "# your answer here"
   ]
  },
  {
   "cell_type": "markdown",
   "id": "ba1d6ae2-89d5-4c10-9cff-ecf3962a44fb",
   "metadata": {},
   "source": [
    "&#9989; **Task 1.2:** Use the `head` function from pandas to display the first few rows of your DataFrame.\n",
    "\n",
    "*Hint: We will be using a lot of new functions today. External resources like search engines and generative AI can be very helpful for figuring out how to use new functions.*"
   ]
  },
  {
   "cell_type": "code",
   "execution_count": 48,
   "id": "f7a4b74e-1481-44c1-bc23-abc52101b03e",
   "metadata": {},
   "outputs": [],
   "source": [
    "# your answer here"
   ]
  },
  {
   "cell_type": "markdown",
   "id": "95d563bb-3140-40ab-8f76-83e8a3db67ec",
   "metadata": {},
   "source": [
    "We use DataFrames because the pandas library has many functionalities that make it easy to view, filter, and manipulate data. After we get the information we need from our DataFrame, we can easily convert it into NumPy arrays for plotting.\n",
    "\n",
    "For example, the data stored in a DataFrame column can be accessed using this syntax:\n",
    "\n",
    "```\n",
    "DataFrame[\"column name\"]\n",
    "```"
   ]
  },
  {
   "cell_type": "markdown",
   "id": "7d4d8777-8a71-4416-b0d1-4809c1a8e602",
   "metadata": {},
   "source": [
    "&#9989; **Task 1.3:** Get the y-values stored in the `\"y\"` column of your DataFrame. Convert them into a NumPy array using the `to_numpy` function."
   ]
  },
  {
   "cell_type": "code",
   "execution_count": 50,
   "id": "6a447b08-aac3-4c26-8a0c-8896bc1583fa",
   "metadata": {},
   "outputs": [],
   "source": [
    "# your answer here"
   ]
  },
  {
   "cell_type": "markdown",
   "id": "98a3f1ef-264c-4490-b927-79a43e6de54d",
   "metadata": {},
   "source": [
    "#### &#128721; **Stop here and check in with an instructor.**"
   ]
  },
  {
   "cell_type": "markdown",
   "id": "c24dc52a-d93a-4057-a124-06c67a4eb5ce",
   "metadata": {},
   "source": [
    "The x-values are stored in the column headers themselves. To obtain these column headers, we can use this syntax:\n",
    "\n",
    "```\n",
    "DataFrame.columns\n",
    "```\n",
    "\n",
    "However, this is not all we need to do. Notice, we are stuck with `\"y\"` in our columns headers, and this is not an x-value. Furthermore, the values we get from `columns` are displayed as strings (surrounded by quotation marks) rather than floats (decimals)."
   ]
  },
  {
   "cell_type": "markdown",
   "id": "e9369949-a47c-45cf-a07e-d31f86922945",
   "metadata": {},
   "source": [
    "&#9989; **Task 1.4:** Get the x-values stored in the column headers of your DataFrame. Convert them into a NumPy array, and ensure they are represented as floats.\n",
    "\n",
    "*Hint: If you are stumped on how to get rid of `\"y\"` from your column headers, use colon-indexing.*"
   ]
  },
  {
   "cell_type": "code",
   "execution_count": null,
   "id": "357cf142-1eea-48c4-aa58-c526a73d6192",
   "metadata": {},
   "outputs": [],
   "source": [
    "# your answer here"
   ]
  },
  {
   "cell_type": "markdown",
   "id": "8bf02aac-98b2-4d59-8d3e-47ffab1b3e7c",
   "metadata": {},
   "source": [
    "&#9989; **Task 1.5:** Get the potential values stored in your DataFrame. Convert them into a NumPy array. They should be displayed in 2 dimensions, and be careful not to include any y-values."
   ]
  },
  {
   "cell_type": "code",
   "execution_count": null,
   "id": "1bd21e2c-6dfa-4e68-9517-3c8edc2b3572",
   "metadata": {},
   "outputs": [],
   "source": [
    "# your answer here"
   ]
  },
  {
   "cell_type": "markdown",
   "id": "f351bcf4-76b8-4899-b139-a28b131bb2d4",
   "metadata": {},
   "source": [
    "&#9989; **Task 1.6: &#129302; Gen-AI check-in**: Did you use generative AI to help you solve any of the tasks that you just completed? Keep in mind, using gen-AI can mean anything from having a conversation with a chatbot like ChatGPT, to using Google's AI overview, to using VSCode's AI coding suggestions.\n",
    "\n",
    "Take a minute to write your notes below."
   ]
  },
  {
   "cell_type": "markdown",
   "id": "cff485e9-d9c2-4940-94f2-3b181c4b7ad7",
   "metadata": {},
   "source": [
    "**The type(s) of gen-AI I used were...**\n",
    "\n",
    "your notes here\n",
    "\n",
    "**The ways I used it were...**\n",
    "\n",
    "your notes here"
   ]
  },
  {
   "cell_type": "markdown",
   "id": "59e0d710-7f9c-4417-aaa0-94ceb9bd59d8",
   "metadata": {},
   "source": [
    "---\n",
    "## Part 2: Plotting from a data file\n",
    "\n",
    "By now, you should have three NumPy arrays from Part 1:\n",
    "- An array of x-values\n",
    "- An array of y-values\n",
    "- A 2D array of electric potential values\n",
    "\n",
    "To plot with these, the sizes of these arrays should all correspond with one another. This means that the size of the electric potential array should match the sizes of the one-dimensional arrays of x-values and y-values."
   ]
  },
  {
   "cell_type": "markdown",
   "id": "c97b41a5-9677-4b19-a709-6e5ee05239d5",
   "metadata": {},
   "source": [
    "&#9989; **Task 2.1:** Use the `shape` function from NumPy to check the shape of your three arrays, and ensure they match for plotting purposes.\n",
    "\n",
    "*Hint: We are not done learning new functions for the day! This is a reminder that external resources like search engines and generative AI can be very helpful for figuring out how to use a new function.*"
   ]
  },
  {
   "cell_type": "code",
   "execution_count": null,
   "id": "4211e9f6-1a57-4fd9-84ba-d00d161d6924",
   "metadata": {},
   "outputs": [],
   "source": [
    "# your answer"
   ]
  },
  {
   "cell_type": "markdown",
   "id": "cea0ebe4-f1fe-489e-b10d-85e357d3766c",
   "metadata": {},
   "source": [
    "&#9989; **Task 2.2:** Plot a contour plot of the electric potential. Use the functions `contour` and `colorbar` from Matplotlib to produce the plot and create a colorbar legend. As always, ensure your visualization is labeled clearly.\n",
    "\n",
    "*Hint: Use the `label` argument in `colorbar` to display a label for your colorbar.*"
   ]
  },
  {
   "cell_type": "code",
   "execution_count": null,
   "id": "122a0e77-a0f8-4a72-a94f-c40d5712b731",
   "metadata": {},
   "outputs": [],
   "source": [
    "# your answer here"
   ]
  },
  {
   "cell_type": "markdown",
   "id": "1f0bf336-a940-4d95-bbbb-7361fc76f190",
   "metadata": {},
   "source": [
    "#### &#128721; **Stop here and check in with an instructor.**"
   ]
  },
  {
   "cell_type": "markdown",
   "id": "e40e4b0f-6227-4060-af0e-9ccc5053a052",
   "metadata": {},
   "source": [
    "&#9989; **Task 2.3:** Instead of using a colorbar, instead try adding labels to your contour curves. Build on the syntax provided below.\n",
    "\n",
    "```\n",
    "curves = plt.contour(...)\n",
    "plt.clabel(curves)\n",
    "```\n",
    "\n",
    "*Hint: When you lose the colorbar, you might notice the nice square figure stretches into a rectangle. To control the figure size, you can call the `plt.figure` function at the top of your cell and use the `figsize` argument.*"
   ]
  },
  {
   "cell_type": "code",
   "execution_count": null,
   "id": "234eab72-8383-4879-bf20-c81e45e6d4aa",
   "metadata": {},
   "outputs": [],
   "source": [
    "# your answer here"
   ]
  },
  {
   "cell_type": "markdown",
   "id": "55daef2f-4a81-4afc-9fbf-dd579898251b",
   "metadata": {},
   "source": [
    "&#9989; **Task 2.4:** This time, keep the colorbar from Task 2.2, but use `contourf` instead of `contour`. This creates a filled contour map, which is analogous to a heat map. Use the `levels` argument to change the detail of the visualization.\n",
    "\n",
    "*Hint: You can also use the `cmap` argument in `contour` or `contourf` to change the color scheme. Patti's favorite is the `\"turbo\"` color scheme. Benny's favorite would probably be the custom `beavs` colormap you can see further below. See here for many other options: https://matplotlib.org/stable/users/explain/colors/colormaps.html.*"
   ]
  },
  {
   "cell_type": "code",
   "execution_count": null,
   "id": "2a54fbf3-9f5b-440a-95f6-5d6b4e9ef559",
   "metadata": {},
   "outputs": [],
   "source": [
    "# your answer here"
   ]
  },
  {
   "cell_type": "code",
   "execution_count": 2,
   "id": "b9e0b9c2-d59a-4a24-86dd-e6163603b54f",
   "metadata": {},
   "outputs": [],
   "source": [
    "# this extra code is just for fun\n",
    "# you can create your own colormaps to have custom color scales\n",
    "\n",
    "import numpy as np\n",
    "from matplotlib.colors import ListedColormap\n",
    "\n",
    "N = 1000\n",
    "vals = np.ones((N, 4))\n",
    "\n",
    "# RGB values for our scale\n",
    "black = np.array([0, 0, 0])\n",
    "beaver_orange = np.array([220, 68, 5]) / 255\n",
    "\n",
    "# we only loop through three values -- the fourth is alpha, which can stay as 1\n",
    "for i in range(3):\n",
    "    # RGB values scaled from black to beaver orange\n",
    "    vals[:, i] = np.linspace(black[0], beaver_orange[i], N)\n",
    "\n",
    "# we can use beavs as a custom colormap!\n",
    "beavs = ListedColormap(vals)"
   ]
  },
  {
   "cell_type": "markdown",
   "id": "bb6536e9-fe09-4f75-9482-503f65e35336",
   "metadata": {},
   "source": [
    "&#9989; **Task 2.5: &#129302; Gen-AI check-in**: Did you use generative AI when you were working on any tasks in Part 2? Keep in mind, using gen-AI can mean anything from having a conversation with a chatbot like ChatGPT, to using Google's AI overview, to using VSCode's AI coding suggestions.\n",
    "\n",
    "Take a minute to write your notes below."
   ]
  },
  {
   "cell_type": "markdown",
   "id": "cc307318-19fe-448f-b860-a80cafb6178e",
   "metadata": {},
   "source": [
    "**The type(s) of gen-AI I used were...**\n",
    "\n",
    "your notes here\n",
    "\n",
    "**The ways I used it were...**\n",
    "\n",
    "your notes here"
   ]
  },
  {
   "cell_type": "markdown",
   "id": "6079b021-36ee-4cdd-8675-084e1fb9534c",
   "metadata": {},
   "source": [
    "---\n",
    "## Part 3: Interpreting your data visualizations\n",
    "\n",
    "You should have a collection of a few different data visualizations for electric potential from the Part 2."
   ]
  },
  {
   "cell_type": "markdown",
   "id": "161920ab-5920-4a47-9f1d-ed3cc6c972f1",
   "metadata": {},
   "source": [
    "&#9989; **Task 3.1:** Evaluate your data visualizations from Part 2, and use them to describe where you think point charges could be located in three-dimensional space to have creates the potential you observed from the data set:\n",
    "- Point out features of the plots to justify your answer.\n",
    "- Describe which plot(s) you think are most helpful for determining where point charges might be."
   ]
  },
  {
   "cell_type": "markdown",
   "id": "2fbd5ef0-ab1e-44e2-b458-a25f86f858fc",
   "metadata": {},
   "source": [
    "**/your answer here/**"
   ]
  },
  {
   "cell_type": "markdown",
   "id": "363618dd-861e-4c0a-bc11-bdc512cba988",
   "metadata": {},
   "source": [
    "&#9989; **Task 3.2: &#129302; Gen-AI check-in**: Did you use generative AI when you were working on Task 3.1? Keep in mind, using gen-AI can mean anything from having a conversation with a chatbot like ChatGPT, to using Google's AI overview, to using VSCode's AI coding suggestions.\n",
    "\n",
    "Take a minute to write your notes below."
   ]
  },
  {
   "cell_type": "markdown",
   "id": "7b88edc9-8653-478e-b8c0-bc955f9c9c91",
   "metadata": {},
   "source": [
    "**The type(s) of gen-AI I used were...**\n",
    "\n",
    "your notes here\n",
    "\n",
    "**The ways I used it were...**\n",
    "\n",
    "your notes here"
   ]
  },
  {
   "cell_type": "markdown",
   "id": "09bd15be-244e-4a63-916d-9e8a4a8a3eb8",
   "metadata": {},
   "source": [
    "#### &#128721; **Stop here and check in with an instructor.**"
   ]
  },
  {
   "cell_type": "markdown",
   "id": "1f11f485-050a-4144-8b45-ff200a72d7c6",
   "metadata": {},
   "source": [
    "---\n",
    "## (Optional, Time Permitting) Part 4: More plotting from data sets \n",
    "\n",
    "If you would like to explore your DataFrame a bit more, try out these tasks."
   ]
  },
  {
   "cell_type": "markdown",
   "id": "6a5babf6-1aac-46db-9ea2-e459263912bc",
   "metadata": {},
   "source": [
    "&#9989; **Task 4.1:** Make a visualization of the electric potential along the y-axis."
   ]
  },
  {
   "cell_type": "code",
   "execution_count": null,
   "id": "e7d64250-d01b-410c-8a4f-3396fde403a4",
   "metadata": {},
   "outputs": [],
   "source": [
    "# your answer here"
   ]
  },
  {
   "cell_type": "markdown",
   "id": "afeb571a-03e2-47f1-9e4b-f37eb22c1b5f",
   "metadata": {},
   "source": [
    "&#9989; **Task 4.2:** Make a visualization of the electric potential along the x-axis."
   ]
  },
  {
   "cell_type": "code",
   "execution_count": 29,
   "id": "456671a2-d96a-43e1-af73-6161d5a35f69",
   "metadata": {},
   "outputs": [],
   "source": [
    "# your answer here"
   ]
  }
 ],
 "metadata": {
  "kernelspec": {
   "display_name": "Python 3 (ipykernel)",
   "language": "python",
   "name": "python3"
  },
  "language_info": {
   "codemirror_mode": {
    "name": "ipython",
    "version": 3
   },
   "file_extension": ".py",
   "mimetype": "text/x-python",
   "name": "python",
   "nbconvert_exporter": "python",
   "pygments_lexer": "ipython3",
   "version": "3.12.4"
  }
 },
 "nbformat": 4,
 "nbformat_minor": 5
}
