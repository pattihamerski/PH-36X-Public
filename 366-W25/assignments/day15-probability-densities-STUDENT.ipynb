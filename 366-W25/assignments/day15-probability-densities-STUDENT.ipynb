{
 "cells": [
  {
   "cell_type": "markdown",
   "id": "9aeaac00-92c7-4ce2-9631-0325bfffd4bd",
   "metadata": {},
   "source": [
    "# Day 15: Probability Densities"
   ]
  },
  {
   "cell_type": "markdown",
   "id": "0be719bc-a31a-4b62-aa91-bde94e038e3f",
   "metadata": {},
   "source": [
    "#### &#9989; **Write your name here**"
   ]
  },
  {
   "cell_type": "markdown",
   "id": "e82a2a23-0a47-49a6-921d-f65d884eed8f",
   "metadata": {},
   "source": [
    "To compute probability from a histogram, for example, **the probability of selecting a simulation from a sample of 500 with energy between -0.4 and -0.375**, can be done by adding up numbers. The height of each little shaded bar indicates the number of simulations in that skinny range of energies. Adding up the heights of **all five bars shaded below** gets you the number of simulations (74) in the entire range of -0.4 to -0.375. Adding up the heights of **every bar** in the histogram gets you 500, which is the entire sample size. The probabibility, then, is given by $74/500 = 14.8\\%$.\n",
    "\n",
    "<img src=\"https://raw.githubusercontent.com/pattihamerski/PH-36X-Public/refs/heads/main/images/histogram-shaded.png\"\n",
    "     alt=\"\"\n",
    "     width=\"400\"\n",
    "/>"
   ]
  },
  {
   "cell_type": "markdown",
   "id": "101da2b3-bb43-4493-9e1b-2f43fb073078",
   "metadata": {},
   "source": [
    "The final step of dividing by 500 is similar to what we call **normalization** of probability distributions. Normalization is the process of dividing by the total size of something, to get a probability that is between 0 and 1. In other words, a realistic probability!\n",
    "\n",
    "Today, **you will apply this normalization process to the entire distribution**. This is what we do in many physics problems to simplify the math that must be done when computing probabilities."
   ]
  },
  {
   "cell_type": "markdown",
   "id": "33bb2524-cc19-46c6-9502-209203af7eb4",
   "metadata": {},
   "source": [
    "---\n",
    "## Part 1: Normalizing a probability \"density\"\n",
    "\n",
    "Consider the code below. We have a range of x-values, which correspond to position. We also have a function called `prob_dens`. This function represents the probability of finding a particle at a particular position value.\n",
    "\n",
    "This distribution corresponds to a free particle that has been released at the position $x=0$. The probability distribution is a snapshot at $t=3$ after the particle has had some time to move around."
   ]
  },
  {
   "cell_type": "code",
   "execution_count": 4,
   "id": "0f65a2f7-0cb4-4229-956c-ce1e770548e8",
   "metadata": {},
   "outputs": [],
   "source": [
    "import numpy as np\n",
    "import matplotlib.pyplot as plt\n",
    "\n",
    "dx = 0.01\n",
    "x = np.arange(-10, 10, dx)\n",
    "\n",
    "def prob_dens(x):\n",
    "    return np.exp(-x**2 / 9)"
   ]
  },
  {
   "cell_type": "markdown",
   "id": "1a5ff2ac-9063-4338-8b89-77d876dccd42",
   "metadata": {},
   "source": [
    "**&#9989; Task 1.1:** Create a plot showing the probability \"density\" (this is a fancy way of saying a *continuous* probability distribution). We use \"density\" because there are infinitely many possibilities for the position value (even though the computer can only model finitely many)."
   ]
  },
  {
   "cell_type": "code",
   "execution_count": 5,
   "id": "5b20791c-139a-486a-9a20-2e0a63c4778a",
   "metadata": {},
   "outputs": [],
   "source": [
    "# your answer here"
   ]
  },
  {
   "cell_type": "markdown",
   "id": "58e8c413-bd13-4598-9a27-1525205555dd",
   "metadata": {},
   "source": [
    "**&#9989; Task 1.2:** Is the probability density normalized? How can you tell?"
   ]
  },
  {
   "cell_type": "markdown",
   "id": "4944c388-e10e-4c64-8ba9-998b5425ea21",
   "metadata": {},
   "source": [
    "**/your answer here/**"
   ]
  },
  {
   "cell_type": "markdown",
   "id": "eb4db789-774c-4d04-9e27-a827b2d90524",
   "metadata": {},
   "source": [
    "#### &#128721; **Stop here and check in with an instructor.**"
   ]
  },
  {
   "cell_type": "markdown",
   "id": "4d5d8a8e-0e79-441b-87c6-3663565b0c8c",
   "metadata": {},
   "source": [
    "**&#9989; Task 1.3:** Create a new **normalized** probability density function. An `integrate` function is given below that you may need."
   ]
  },
  {
   "cell_type": "code",
   "execution_count": 22,
   "id": "0d49e926-7455-4049-86be-0ac21c91e734",
   "metadata": {},
   "outputs": [],
   "source": [
    "import scipy.integrate as integrate\n",
    "# uncomment the line below to see the documentation of the integrate.quad function\n",
    "#integrate.quad?"
   ]
  },
  {
   "cell_type": "code",
   "execution_count": 28,
   "id": "ea64d33b-2a82-4a58-b8fc-5209e6a47fd6",
   "metadata": {},
   "outputs": [],
   "source": [
    "# your answer here"
   ]
  },
  {
   "cell_type": "markdown",
   "id": "80ca7a35-69e6-42f7-8817-86d081667f8b",
   "metadata": {},
   "source": [
    "**&#9989; Task 1.4:** Plot your normalized probability density."
   ]
  },
  {
   "cell_type": "code",
   "execution_count": 12,
   "id": "3bc83a47-8953-460d-93b1-a72f83aeab5f",
   "metadata": {},
   "outputs": [],
   "source": [
    "# your answer here"
   ]
  },
  {
   "cell_type": "markdown",
   "id": "e8a24b51-6d08-4f9d-a962-7984e72ae1c3",
   "metadata": {},
   "source": [
    "**&#9989; Task 1.5:** Use your new normalized probability density function to answer this. What is the probability of finding your particle between $x = 2$ and $x = 3$?"
   ]
  },
  {
   "cell_type": "code",
   "execution_count": 10,
   "id": "fe8592dd-85a0-4b2b-8319-c54a4970edf3",
   "metadata": {},
   "outputs": [],
   "source": [
    "# your answer here"
   ]
  },
  {
   "cell_type": "markdown",
   "id": "69e547e9-592d-408e-8118-9ba14f2e8f32",
   "metadata": {},
   "source": [
    "---\n",
    "## Part 2: Time-dependent probabilities\n",
    "\n",
    "Below is a function that defines the **normalized** probability density of a moving particle.\n",
    "\n",
    "$$\\mathcal{P}(x, t) = \\sqrt{\\frac{2}{\\pi(1 + 4t^2)}} \\text{ } e^{-\\frac{2(x-5t)^2}{1 + 4t^2}}$$"
   ]
  },
  {
   "cell_type": "markdown",
   "id": "509cff9b-0d51-440d-a185-0211e67e4c04",
   "metadata": {},
   "source": [
    "We can plug in different values of $t$ to get snapshots of the particle's probability density in $x$. Values of these new density functions correspond to the probability of finding the particle at a particular position. See below for several fixed-time probability densities: $\\mathcal{P}(x, 0)$, $\\mathcal{P}(x, 1)$, and $\\mathcal{P}(x, 2)$.\n",
    "\n",
    "| $t$ | $\\mathcal{P}(x, t)$ |\n",
    "|-----|---------------------|\n",
    "| $0$ | $\\sqrt{\\frac{2}{\\pi}} \\text{ } e^{-2x^2}$ |\n",
    "| $1$ | $\\sqrt{\\frac{2}{5\\pi}} \\text{ } e^{-\\frac{2(x-5)^2}{5}}$ |\n",
    "| $2$ | $\\sqrt{\\frac{2}{17\\pi}} \\text{ } e^{-\\frac{2(x-10)^2}{17}}$ |"
   ]
  },
  {
   "cell_type": "markdown",
   "id": "218c5381-4e93-4f0d-8afe-5955e1bc5bac",
   "metadata": {},
   "source": [
    "**&#9989; Task 2.1:** Create three different functions that compute the probability densities in the table above."
   ]
  },
  {
   "cell_type": "code",
   "execution_count": 14,
   "id": "3fc83425-636f-474f-88a1-5286e37c3546",
   "metadata": {},
   "outputs": [],
   "source": [
    "# your answer here"
   ]
  },
  {
   "cell_type": "markdown",
   "id": "b6b05b7b-3f92-4d39-978c-bd5f88b7e92a",
   "metadata": {},
   "source": [
    "**&#9989; Task 2.2:** Verify whether your three probability densities are normalized."
   ]
  },
  {
   "cell_type": "code",
   "execution_count": null,
   "id": "3e003e01-494b-4dc0-8db6-dbc45adc7200",
   "metadata": {},
   "outputs": [],
   "source": [
    "# your answer here"
   ]
  },
  {
   "cell_type": "markdown",
   "id": "cda18887-7f02-44ec-a045-d3d0bb2d6fe9",
   "metadata": {},
   "source": [
    "**&#9989; Task 2.3:** Plot all three probability density on the same set of axes. Make sure to include a legend to differentiate between the densities, and also include appropriate labels and x-values for showing the entire range of the densities."
   ]
  },
  {
   "cell_type": "code",
   "execution_count": null,
   "id": "c7e4a7b0-d099-4127-879f-6f15f25efd47",
   "metadata": {},
   "outputs": [],
   "source": [
    "# your answer here"
   ]
  },
  {
   "cell_type": "markdown",
   "id": "b8ea9809-7ba2-49b9-a566-5308f4b6404b",
   "metadata": {},
   "source": [
    "**&#9989; Task 2.4:** Compute the probability that the particle is located between 0.3 and 0.9 at time $t=0$."
   ]
  },
  {
   "cell_type": "code",
   "execution_count": null,
   "id": "c39b4ad5-0e3b-49db-af02-7d18b72adfa2",
   "metadata": {},
   "outputs": [],
   "source": [
    "# your answer here"
   ]
  },
  {
   "cell_type": "markdown",
   "id": "660d75b6-e618-4424-933d-e2b4a82d6399",
   "metadata": {},
   "source": [
    "**&#9989; Task 2.5:** Compute the probability that the particle is located between 5.5 and 6.5 at time $t=1$."
   ]
  },
  {
   "cell_type": "code",
   "execution_count": 31,
   "id": "fea9ab1e-c17b-4fc3-a300-523251090a89",
   "metadata": {},
   "outputs": [],
   "source": [
    "# your answer here"
   ]
  },
  {
   "cell_type": "markdown",
   "id": "a06c811a-ee7e-4711-894c-6abcc69e23ab",
   "metadata": {},
   "source": [
    "**&#9989; Task 2.6:** Compute the probability that the particle is located between 5.5 and 6.5 at time $t=2$ (note the different time)."
   ]
  },
  {
   "cell_type": "code",
   "execution_count": null,
   "id": "957ab8f9-e9a1-48bd-81b8-666657365b62",
   "metadata": {},
   "outputs": [],
   "source": [
    "# your answer here"
   ]
  },
  {
   "cell_type": "markdown",
   "id": "ab793cae-ae84-4b9d-ab6c-e9104be98011",
   "metadata": {},
   "source": [
    "&#9989; **Task 2.7:** In which direction does the particle seem to be moving? How can you tell?"
   ]
  },
  {
   "cell_type": "markdown",
   "id": "054ea636-cb32-44c5-b735-a08ace0d29a4",
   "metadata": {},
   "source": [
    "**/your answer here/**"
   ]
  },
  {
   "cell_type": "markdown",
   "id": "50e86357-8755-4f6d-a23d-d3dc3fdf6adb",
   "metadata": {},
   "source": [
    "#### &#128721; **Stop here and check in with an instructor.**"
   ]
  },
  {
   "cell_type": "markdown",
   "id": "68f6e561-c086-4a6e-b70e-419288ea0f69",
   "metadata": {},
   "source": [
    "**&#9989; Task 2.8:** In a group of peers, discuss these questions, and write down your answers in the space below.\n",
    "- How can you tell whether a function is normalized?\n",
    "- How does normalization help you when computing probabilities in the tasks you just did?\n",
    "- What is the **purpose** of ensuring that a probability density is normalized?"
   ]
  },
  {
   "cell_type": "markdown",
   "id": "35409513-94c8-4513-8d5b-6f6571317c5f",
   "metadata": {},
   "source": [
    "**/your answer here/**"
   ]
  }
 ],
 "metadata": {
  "kernelspec": {
   "display_name": "Python 3 (ipykernel)",
   "language": "python",
   "name": "python3"
  },
  "language_info": {
   "codemirror_mode": {
    "name": "ipython",
    "version": 3
   },
   "file_extension": ".py",
   "mimetype": "text/x-python",
   "name": "python",
   "nbconvert_exporter": "python",
   "pygments_lexer": "ipython3",
   "version": "3.12.4"
  }
 },
 "nbformat": 4,
 "nbformat_minor": 5
}
