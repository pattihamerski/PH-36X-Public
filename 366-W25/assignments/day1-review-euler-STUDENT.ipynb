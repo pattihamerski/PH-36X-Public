{
 "cells": [
  {
   "cell_type": "markdown",
   "id": "f3eb9e9b-a50f-4076-84b9-c4c91e8d6af2",
   "metadata": {},
   "source": [
    "# Day 1: Reviewing Loops in the Euler Method"
   ]
  },
  {
   "cell_type": "markdown",
   "id": "34f0c0cf-0227-4e77-9bf4-dbdf0004e43c",
   "metadata": {},
   "source": [
    "#### &#9989; **Write your name here**"
   ]
  },
  {
   "cell_type": "markdown",
   "id": "ccc82cd0-71ef-45cc-aad9-6c66bb82e277",
   "metadata": {},
   "source": [
    "Welcome to PH 366! This is Part 2 out of 3 computational physics labs. In this course, we will:\n",
    "\n",
    "1. Build conceptual knowledge of algorithms and numerical methods commonly used in physics\n",
    "2. Apply numerical methods to physics problems using computing tools in Python\n",
    "3. Compare and analyze the precision, efficiency, and effectiveness of different computational approaches for solving physics problems\n",
    "4. Create computational models of physics phenomena using intermediate data visualization tools\n",
    "5. Apply statistics and modeling principles to data sets and use findings to draw insights about physics phenomena\n",
    "6. Communally develop best practices for writing code, sharing it with peers, and using external resources\n",
    "\n",
    "Today is partially a review of some material from PH 365, and partially an opportunity to practice coding a numerical method and share it with your peers. Specifically, you'll review the **Euler method** and the usage of **loops**."
   ]
  },
  {
   "cell_type": "markdown",
   "id": "e0de62a2-dcb5-40eb-b3fb-fa5dc5130d35",
   "metadata": {},
   "source": [
    "To review, the Euler method uses a **known derivative** to approximate values of an **unknown physical quantity**. \n",
    "\n",
    "The steps of the Euler method are:\n",
    "1. Begin with an unknown quantity $y(x)$, where we **do** know a formula for the derivative $f(x,y) = \\frac{dy}{dx}$ and initial values for $y$ and $x$, which we can call $y_0$ and $x_0$. *Note: you can use different variable names than $y$ and $x$, but they should represent a dependent and independent variable, respectively.*\n",
    "2. Select a range of equally spaced $x$-values to compute over, starting with $x_0$.\n",
    "3. Go to the next $x$-value, $x_1$. The step-size, $x_1 - x_0$, we can call $\\Delta x$.\n",
    "4. Compute $y(x_1)$, or just $y_1$ for short, by using the Euler method: $ y_1 = y_0 + f(x_0, y_0)\\Delta x$.\n",
    "5. Repeat steps 3 and 4, using the same step-size ($\\Delta x$), to get to the next $x$-value.\n",
    "6. Continue repeating until you reach the end of your range of $x$-values."
   ]
  },
  {
   "cell_type": "markdown",
   "id": "141b33ea-13b5-4672-bb9e-12db1eee7338",
   "metadata": {},
   "source": [
    "When repeating steps 3 and 4, we can use a more general formula for computing the next value of $y(x)$:\n",
    "\n",
    "$$ y_{i+1} = y_i + f(x_i, y_i)\\Delta x $$\n",
    "\n",
    "Below, you can visualize this process and see how the formula is derived:\n",
    "\n",
    "<img src=\"https://raw.githubusercontent.com/pattihamerski/PH-36X-Public/refs/heads/main/365-F24/images/euler-diagram-with-triangle.png\" alt=\"\" width=\"800\"/>"
   ]
  },
  {
   "cell_type": "markdown",
   "id": "8cf5ead4-4a13-48fa-8bd6-ba46241d0b33",
   "metadata": {},
   "source": [
    "---\n",
    "## Part 1: Converting the Euler method into code\n",
    "\n",
    "Let's work on writing code that can execute the outlined steps of the Euler method, using an example. We'll start with **Step 1**: beginning with an **unknown** quantity and a **known** derivative.\n",
    "\n",
    "In this example, the unknown quantity is **the temperature of an object**, whose time-derivative is known:\n",
    "\n",
    "$$\\frac{dT}{dt} = -\\frac{1}{\\tau} (T(t) - T_{\\text{env}})$$\n",
    "\n",
    "In this derivative:\n",
    "- $T$ (°C) is the temperature of the object, which depends on time ($t$) -- our ***independent variable***\n",
    "- $T_{\\text{env}}$ (°C) is the ambient temperature\n",
    "- $\\tau$ (s) is the time constant which dictates how quickly the object can change temperature"
   ]
  },
  {
   "cell_type": "markdown",
   "id": "d3e1839e-517f-48df-8ef0-80e85fa74224",
   "metadata": {},
   "source": [
    "For this example, let's assume some values to set up the problem:\n",
    "- Time spans for 1 hour (3600 seconds)\n",
    "- Initial temperature of the object is the boiling temperature of water\n",
    "- The temperature of the environment is room temperature\n",
    "- $\\tau = 500$ s$^{-1}$\n",
    "\n",
    "Because this is meant to be a review focused on using loops to implement the Euler method, **Steps 1-3** are completed for you in the code below."
   ]
  },
  {
   "cell_type": "code",
   "execution_count": 14,
   "id": "721a5967-da26-4f8d-a701-197f64e6e3bc",
   "metadata": {},
   "outputs": [],
   "source": [
    "# Step 1: We know a formula for the derivative of T\n",
    "\n",
    "T0 = 100    # boiling temperature\n",
    "Tenv = 20   # room temperature\n",
    "tau = 500 # time constant for the object\n",
    "\n",
    "def dTdt(T):\n",
    "    return -1 / tau * (T - Tenv)"
   ]
  },
  {
   "cell_type": "code",
   "execution_count": 15,
   "id": "036d5856-5401-4e0d-95f6-f2af243f406a",
   "metadata": {},
   "outputs": [],
   "source": [
    "# Step 2: We create a time span for our calculations\n",
    "\n",
    "import numpy as np\n",
    "\n",
    "t0 = 0\n",
    "tf = 3600\n",
    "\n",
    "# dt is deliberately small to be more precise\n",
    "dt = 1\n",
    "\n",
    "# np.arange creates a NumPy array over all our times, stepping by dt\n",
    "t = np.arange(t0, tf, dt)"
   ]
  },
  {
   "cell_type": "code",
   "execution_count": 16,
   "id": "72001527-977e-4939-a5a3-e82249398acb",
   "metadata": {},
   "outputs": [],
   "source": [
    "# Step 3: We already have a time-step (dt) and our first time value (t0)\n",
    "\n",
    "t1 = t[1]"
   ]
  },
  {
   "cell_type": "markdown",
   "id": "7e6ad3a7-bb2f-4dcf-a4cc-465763532b0d",
   "metadata": {},
   "source": [
    "&#9989; **Task 1.1:** In preparation for **Step 4**, we need to know how to compute $T_1$ from $T_0$ and other known values. Combine the differential equation (the ODE for $dT/dt$) with the Euler method to create a formula for the **next value** of temperature ($T_{i+1}$) given the **current value** of temperature ($T_i$). Write your formula below.\n",
    "\n",
    "*Hint: The connection between the Euler method and the ODE is shown in the derivation.*"
   ]
  },
  {
   "cell_type": "markdown",
   "id": "bd202638-ca42-4624-8257-b2be22cc6304",
   "metadata": {},
   "source": [
    "**your answer here**"
   ]
  },
  {
   "cell_type": "markdown",
   "id": "2452a0a7-b3ed-4af1-89df-bc8c0cacb8c7",
   "metadata": {},
   "source": [
    "&#9989; **Task 1.2:** Do **Step 4** of the algorithm: Using your formula, compute $T_1$. Print the computed value.\n",
    "\n",
    "*Hint: Use the `dTdt` function provided in the code for **Step 1** to make your code cleaner.*"
   ]
  },
  {
   "cell_type": "code",
   "execution_count": 17,
   "id": "699270ce-e8bf-410c-9f41-6ac6eca3f035",
   "metadata": {},
   "outputs": [],
   "source": [
    "# your answer here"
   ]
  },
  {
   "cell_type": "markdown",
   "id": "d2156f24-2889-41e0-bbcd-4704982eb3df",
   "metadata": {},
   "source": [
    "&#9989; **Task 1.3:** Do **Steps 5 and 6** of the algorithm: Repeat your calculation for every time value. Store your temperature values in the empty array provided.\n",
    "\n",
    "*Hint: Use a loop!*"
   ]
  },
  {
   "cell_type": "code",
   "execution_count": 20,
   "id": "a253d926-2c63-43fe-acf2-d90c27ece014",
   "metadata": {},
   "outputs": [],
   "source": [
    "# your answer here\n",
    "\n",
    "# store your temperature values here\n",
    "T = np.zeros(len(t))"
   ]
  },
  {
   "cell_type": "markdown",
   "id": "117d0ffb-2668-4684-a477-8430cdcbe662",
   "metadata": {},
   "source": [
    "&#9989; **Task 1.4:** Create a visualization of temperature vs. time (i.e., temperature on the y-axis, time on the x-axis). Label your plot clearly."
   ]
  },
  {
   "cell_type": "code",
   "execution_count": null,
   "id": "4a169997-3eee-4ffd-b1a2-87222ae2e869",
   "metadata": {},
   "outputs": [],
   "source": [
    "# your answer here"
   ]
  },
  {
   "cell_type": "markdown",
   "id": "b17e9a4b-6016-4c9f-b34d-6c53dbd7b9c2",
   "metadata": {},
   "source": [
    "#### &#128721; **Stop here and check in with an instructor.**\n",
    "\n",
    "Look out for this stop sign &#128721; in assignments -- call over an instructor (faculty instructor or LA) to check in and discuss your work so far."
   ]
  },
  {
   "cell_type": "markdown",
   "id": "8ea63053-bccf-4a67-8dbd-ab3e9e0faa9e",
   "metadata": {},
   "source": [
    "&#9989; **Task 1.5:** With a small group of peers, **discuss the questions your instructor poses** when you check in with them. Below, write a small response (2-3 sentences max) to these questions: \n",
    "- Why did you choose to use a `for`/`while` loop?\n",
    "- What would have to change about the problem for you to consider using the other type of loop?"
   ]
  },
  {
   "cell_type": "markdown",
   "id": "b316fae7-bb59-4fb3-a53b-34259ab8060b",
   "metadata": {},
   "source": [
    "**your answer here**"
   ]
  },
  {
   "cell_type": "markdown",
   "id": "ddb46231-96d5-4121-95b4-ec713cb72f18",
   "metadata": {},
   "source": [
    "---\n",
    "\n",
    "## Part 2: Surveys\n",
    "\n",
    "Fill out the following surveys in order to get credit for participating today.\n",
    "\n",
    "The first is a get-to-know-you survey to help your instructors better understand your background.\n",
    "\n",
    "The second is a research consent form. Research may be conducted on the educational activities in PH 366 this term. Data will be collected on an opt-in basis. Nevertheless, you must fill out the form to indicate your opt-in status. Your instructor will not be able to see your response or see any data collected this term, but they will know whether you filled out the form."
   ]
  },
  {
   "cell_type": "markdown",
   "id": "ee087ecf-e105-4a9a-951d-32c4b7a0c3da",
   "metadata": {},
   "source": [
    "#### &#9989; **Get-to-know-you Survey**\n",
    "\n",
    "Run the code below and fill out the form inside the Jupyter notebook."
   ]
  },
  {
   "cell_type": "code",
   "execution_count": 29,
   "id": "b0798e13-7e7f-431d-b767-87148a668a7e",
   "metadata": {
    "scrolled": true
   },
   "outputs": [
    {
     "data": {
      "text/html": [
       "\n",
       "<iframe src=\"https://forms.gle/31H52RweN3PG6duZ6\"\n",
       "width=\"800px\"\n",
       "height=\"600px\"\n",
       "frameborder=\"0\"\n",
       "marginheight=\"0\"\n",
       "marginwidth=\"0\">Loading...</iframe>\n"
      ],
      "text/plain": [
       "<IPython.core.display.HTML object>"
      ]
     },
     "execution_count": 29,
     "metadata": {},
     "output_type": "execute_result"
    }
   ],
   "source": [
    "from IPython.display import HTML\n",
    "HTML(\n",
    "\"\"\"\n",
    "<iframe src=\"https://forms.gle/31H52RweN3PG6duZ6\"\n",
    "width=\"800px\"\n",
    "height=\"600px\"\n",
    "frameborder=\"0\"\n",
    "marginheight=\"0\"\n",
    "marginwidth=\"0\">Loading...</iframe>\n",
    "\"\"\"\n",
    ")"
   ]
  },
  {
   "cell_type": "markdown",
   "id": "f841f572-358e-428b-8df4-b87905a8196d",
   "metadata": {},
   "source": [
    "#### &#9989; **Research Consent Form**\n",
    "\n",
    "Run the code below and fill out the form inside the Jupyter notebook."
   ]
  },
  {
   "cell_type": "code",
   "execution_count": 3,
   "id": "4b2e205d-4511-4378-8821-fa224f0fb908",
   "metadata": {
    "scrolled": true
   },
   "outputs": [
    {
     "data": {
      "text/html": [
       "\n",
       "<iframe src=\"https://forms.office.com/r/YXDpDMky2v\"\n",
       "width=\"800px\"\n",
       "height=\"600px\"\n",
       "frameborder=\"0\"\n",
       "marginheight=\"0\"\n",
       "marginwidth=\"0\">Loading...</iframe>\n"
      ],
      "text/plain": [
       "<IPython.core.display.HTML object>"
      ]
     },
     "execution_count": 3,
     "metadata": {},
     "output_type": "execute_result"
    }
   ],
   "source": [
    "from IPython.display import HTML\n",
    "HTML(\n",
    "\"\"\"\n",
    "<iframe src=\"https://forms.office.com/r/YXDpDMky2v\"\n",
    "width=\"800px\"\n",
    "height=\"600px\"\n",
    "frameborder=\"0\"\n",
    "marginheight=\"0\"\n",
    "marginwidth=\"0\">Loading...</iframe>\n",
    "\"\"\"\n",
    ")"
   ]
  },
  {
   "cell_type": "markdown",
   "id": "1c2ba842-21a1-4549-b388-41451d085f8c",
   "metadata": {},
   "source": [
    "#### &#128721; **Stop here before you go!**\n",
    "\n",
    "- Save your file, and submit it on Canvas. You will need to do this every day at the end of class, so this is a good opportunity to practice that.\n",
    "- In case of technical difficulties, for today only, you will be graded based on filling out and submitting the surveys, so the Canvas submission is truly practice and won't be graded.\n",
    "- If you want to double-check that your surveys were received, ask an instructor."
   ]
  }
 ],
 "metadata": {
  "kernelspec": {
   "display_name": "Python 3 (ipykernel)",
   "language": "python",
   "name": "python3"
  },
  "language_info": {
   "codemirror_mode": {
    "name": "ipython",
    "version": 3
   },
   "file_extension": ".py",
   "mimetype": "text/x-python",
   "name": "python",
   "nbconvert_exporter": "python",
   "pygments_lexer": "ipython3",
   "version": "3.12.4"
  }
 },
 "nbformat": 4,
 "nbformat_minor": 5
}
