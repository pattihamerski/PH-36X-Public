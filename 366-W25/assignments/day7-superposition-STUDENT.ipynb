{
 "cells": [
  {
   "cell_type": "markdown",
   "id": "9aeaac00-92c7-4ce2-9631-0325bfffd4bd",
   "metadata": {},
   "source": [
    "# Day 7: Electric Potential from Superposition"
   ]
  },
  {
   "cell_type": "markdown",
   "id": "0be719bc-a31a-4b62-aa91-bde94e038e3f",
   "metadata": {},
   "source": [
    "#### &#9989; **Write your name here**"
   ]
  },
  {
   "cell_type": "markdown",
   "id": "cbae393b-1fd6-459a-b307-e3323f69c0eb",
   "metadata": {},
   "source": [
    "Back in Day 5, you may have created a function similar to one provided below, which computes electric potential at any point along the x-axis, using contributions from a collection of point charges. Today, you will expand on this function to create a tool for computing electric potential along the entire xy-plane."
   ]
  },
  {
   "cell_type": "markdown",
   "id": "8feccd8f-66f2-49d6-9abc-b3203ac9ebe4",
   "metadata": {},
   "source": [
    "&#9989; **Task 0.1:** Review the code below. **Add comments** to explain what each part of the code is doing, and **add proper documentation** to give an overview of what the `Vx` function does."
   ]
  },
  {
   "cell_type": "code",
   "execution_count": 99,
   "id": "89c4c643-d5a5-4a6b-b3dc-d57bbf9839bb",
   "metadata": {},
   "outputs": [],
   "source": [
    "k = 8.99e9\n",
    "\n",
    "# document this function here\n",
    "def Vx(x, charges, positions):\n",
    "    '''\n",
    "    or document here\n",
    "    '''\n",
    "    # comment here\n",
    "    potential = 0\n",
    "    # comment here\n",
    "    for i in range(len(charges)):\n",
    "        # comment here\n",
    "        qi = charges[i]\n",
    "        # comment here\n",
    "        rix = positions[i][0]\n",
    "        riy = positions[i][1]\n",
    "        riz = positions[i][2]\n",
    "        # comment here\n",
    "        contribution = k * qi / ((x - rix) ** 2 + riy ** 2 + riz ** 2) ** (1/2)\n",
    "        # comment here\n",
    "        potential += contribution\n",
    "    return potential"
   ]
  },
  {
   "cell_type": "markdown",
   "id": "eebcc7e3-b967-42c7-bd59-026c0f1bd7d3",
   "metadata": {},
   "source": [
    "---\n",
    "## Part 1: Using a potential function"
   ]
  },
  {
   "cell_type": "markdown",
   "id": "b1e4e0ab-65e7-4892-82d2-2e10cc71056c",
   "metadata": {},
   "source": [
    "&#9989; **Task 1.1:** Use the `Vx` function provided above to **compute electric potential** along the $x$-axis only and **create a visualization.**\n",
    "- Use values of $x$ values from -20 to 20\n",
    "- Compute the electric potential from three point charges:\n",
    "    - 20 nC located at (-3, 1, 1)\n",
    "    - 50 nC located at (15, 0, 3)\n",
    "    - -80 nC located at (-10, 1, 4)"
   ]
  },
  {
   "cell_type": "code",
   "execution_count": 9,
   "id": "e568edc6-474f-43ce-84e2-136b720fb07f",
   "metadata": {},
   "outputs": [],
   "source": [
    "# your answer here"
   ]
  },
  {
   "cell_type": "markdown",
   "id": "800f74e3-24d6-4d91-8a65-871fa68c35e2",
   "metadata": {},
   "source": [
    "#### &#128721; **Stop here and check in with an instructor.**"
   ]
  },
  {
   "cell_type": "markdown",
   "id": "a45888d9-a83e-46da-99ee-222a866f91aa",
   "metadata": {},
   "source": [
    "---\n",
    "## Part 2: Making a 2D potential function"
   ]
  },
  {
   "cell_type": "markdown",
   "id": "360d4b0a-ac2e-4151-aeb6-eceb4239f80a",
   "metadata": {},
   "source": [
    "When using the `Vx` function, only $x$-values needed to be input, because each point on the $x$-axis can be represented as (x, 0, 0), so information about $y$ and $z$ are not needed. However, to compute electric potential at any point on the $xy$ plane, you will need a function that takes both $x$-values **and** $y$-values. "
   ]
  },
  {
   "cell_type": "markdown",
   "id": "f3224429-d0fe-4b5f-8d30-aea51db7e49e",
   "metadata": {},
   "source": [
    "&#9989; **Task 2.1:** Create and document a function that computes electric potential at any points on the $xy$ plane.\n",
    "\n",
    "*Hint: To use a similar format of calculating potential as the function above, design your function to input the $x$ coordinates and $y$ coordinates as separate arguments.*"
   ]
  },
  {
   "cell_type": "code",
   "execution_count": null,
   "id": "dc487d05-d285-404a-a6db-6543e6e043ec",
   "metadata": {},
   "outputs": [],
   "source": [
    "# your answer here"
   ]
  },
  {
   "cell_type": "markdown",
   "id": "69cfd2c8-e6bf-42a5-a93b-11d2f005dab8",
   "metadata": {},
   "source": [
    "Back in Task 1.1, you could simply plug in a NumPy array of $x$ values straight into `Vx`. Creating an array to represent those $x$-values in a 1D line was doable with `linspace` or `arange`. \n",
    "\n",
    "However, in 2 dimensions, creating a grid of (x, y, 0) coordinate values is more complicated. For example, a grid of 20 $x$-values by 50 $y$-values contains 1000 individual (x, y, 0) points. Such points can be obtained using the NumPy function `meshgrid`."
   ]
  },
  {
   "cell_type": "markdown",
   "id": "888700dc-3b70-4e69-b05d-b42e54ddbead",
   "metadata": {},
   "source": [
    "&#9989; **Task 2.2: &#129302; (Try using Gen-AI for this)** Use the NumPy function `meshgrid` to produce arrays of $x$-values and $y$-values that correspond to a 2D area of (x, y, 0) values covering $x$ from -20 to 20 and $y$ from -10 to 10. *Use a generative AI tool of your choice to try helping you complete this task, and keep that tab open for the next task as well.*"
   ]
  },
  {
   "cell_type": "code",
   "execution_count": null,
   "id": "9d7af68e-91e2-4e7e-be75-9e7c1134d322",
   "metadata": {},
   "outputs": [],
   "source": [
    "# your answer here"
   ]
  },
  {
   "cell_type": "markdown",
   "id": "f4fee66c-d427-405f-ba9f-2dafd7936ad2",
   "metadata": {},
   "source": [
    "&#9989; **Task 2.3: &#129302; (Document how you used Gen-AI)** Catalog your conversation/usage of generative AI from Task 2.2 here: https://docs.google.com/document/d/1nqqDOyWb4nQqTCHzWkkGIa63N0xzjUERR4bn9rYDVYA/edit?usp=sharing\n",
    "- Screenshot and/or copy your conversation.\n",
    "- Describe in your own words how you got your answer."
   ]
  },
  {
   "cell_type": "markdown",
   "id": "53c9e18e-0f19-4a6c-a88a-929462cf41bd",
   "metadata": {},
   "source": [
    "&#9989; **Task 2.4:** Use your function from Task 2.1 to **compute electric potential** from the same three point charges as before, across the 2D area on the $xy$ plane covering $-20 \\le x \\le 20$ and $-10 \\le y \\le 10$. **Create a visualization** of the electric potential using your choice of contour plot (if needed, see the Day 6 assignment for guidance on creating contour plots)."
   ]
  },
  {
   "cell_type": "code",
   "execution_count": 51,
   "id": "4afd3960-8968-46e3-bcce-62b47f4c133e",
   "metadata": {},
   "outputs": [],
   "source": [
    "# your answer here"
   ]
  },
  {
   "cell_type": "markdown",
   "id": "115cb95b-ba52-4eb8-89d9-615478ab1548",
   "metadata": {},
   "source": [
    "#### &#128721; **Stop here and check in with an instructor.**"
   ]
  },
  {
   "cell_type": "markdown",
   "id": "67e83454-f1ee-4b94-b0b0-41b5736a910b",
   "metadata": {},
   "source": [
    "---\n",
    "## Part 3: Electric potential from a charge density\n",
    "\n",
    "Now that you have your new function working and you can use it compute potential across a 2D area, try using it for a different collection of charges!\n",
    "\n",
    "Below, the provided code produces **many** charges arranged near to each other to approximate a charge density. Try your best to read the code and decipher how these charges are arranged."
   ]
  },
  {
   "cell_type": "markdown",
   "id": "44263cde-92cc-4ede-803a-442390d2ba18",
   "metadata": {},
   "source": [
    "&#9989; **Task 3.1:** Review the code below. **Add proper documentation** to give an overview of what the `charge_rod` function does. **Add comments** to describe the specific charge density that the computed charges represent."
   ]
  },
  {
   "cell_type": "code",
   "execution_count": 94,
   "id": "029c4a73-5ba5-43bb-bc6b-7ad81a7c4879",
   "metadata": {},
   "outputs": [],
   "source": [
    "# document this function\n",
    "def charge_rod(Q, N, start, end):\n",
    "    dq = Q / N\n",
    "    q_vals = dq * np.ones(N)\n",
    "    pos_vals = np.linspace(start, end, N)\n",
    "    return q_vals, pos_vals\n",
    "\n",
    "# add comments here to describe\n",
    "# what the charges and positions below\n",
    "# seem to represent\n",
    "charges, positions = charge_rod(1e-7, 200, [0, 8, 2], [25, 0, 0.2])"
   ]
  },
  {
   "cell_type": "markdown",
   "id": "0e9e1575-2f47-4f08-a0c6-8a4cea4173e3",
   "metadata": {},
   "source": [
    "&#9989; **Task 3.2:** Based on what you can discern about the charge density, **predict how you think the electric potential on the $xy$ plane will look.** Be specific about locations, where the potential will be highest/lowest, and where the relative changes in potential are steepest/shallowest."
   ]
  },
  {
   "cell_type": "markdown",
   "id": "8a105496-bf80-411f-a4c7-fc219861d6db",
   "metadata": {},
   "source": [
    "**/your answer here/**"
   ]
  },
  {
   "cell_type": "markdown",
   "id": "cc680e52-016f-4477-b500-1c0387449253",
   "metadata": {},
   "source": [
    "&#9989; **Task 3.3:** Use your function from Task 2.1 to **compute electric potential** from the new collection of charges, across new $x$ and $y$ points as well -- across the 2D area on the $xy$ plane covering $0 \\le x \\le 30$ and $-5 \\le y \\le 10$. **Create a visualization** of the electric potential using your choice of contour plot. Further below, **evaluate your prediction** based on how your plot looks."
   ]
  },
  {
   "cell_type": "code",
   "execution_count": null,
   "id": "7b52048e-9ec3-4160-8dbd-df70bd75728c",
   "metadata": {},
   "outputs": [],
   "source": [
    "# your answer here"
   ]
  },
  {
   "cell_type": "markdown",
   "id": "da7129a3-3670-45bf-ab36-b07b56dae11d",
   "metadata": {},
   "source": [
    "**/your answer here/**"
   ]
  },
  {
   "cell_type": "markdown",
   "id": "22a7d45f-0d41-4361-b123-a7e36d1afc19",
   "metadata": {},
   "source": [
    "&#9989; **Task 3.4:** Compute the electric potential again over the same $xy$ area, **using the new collection of charges** provided below. Using a contour plotting tool, **create a visualization** of the electric potential."
   ]
  },
  {
   "cell_type": "code",
   "execution_count": 109,
   "id": "9cae0ca3-4314-4863-ba92-097579ee9115",
   "metadata": {},
   "outputs": [],
   "source": [
    "charges_new, positions_new = charge_rod(1e-7, 10, [0, 8, 2], [25, 0, 0.2])"
   ]
  },
  {
   "cell_type": "code",
   "execution_count": 107,
   "id": "7d0a82cf-47eb-49ca-ac5f-de63fd7c8c4b",
   "metadata": {},
   "outputs": [],
   "source": [
    "# your answer here"
   ]
  },
  {
   "cell_type": "markdown",
   "id": "e979b05c-7430-4243-ae42-6da988626586",
   "metadata": {},
   "source": [
    "#### &#128721; **Stop here and check in with an instructor.**"
   ]
  },
  {
   "cell_type": "markdown",
   "id": "eeeeeeeb-722f-4a5e-a7c5-942d372b55d7",
   "metadata": {},
   "source": [
    "&#9989; **Task 3.5:** Describe what you see in your Task 3.4 visualization in terms of **approximation** and **\"discretization\"** -- the process of turning a continuous object into discrete, singular components. Specifically:\n",
    "- How was the continuously charged rod \"discretized\" in this example?\n",
    "- How can you evaluate whether this \"discretization\" of the charged rod is an effective approximation to use?"
   ]
  },
  {
   "cell_type": "markdown",
   "id": "f84ac199-5aed-44c8-be44-276ef99dd8b1",
   "metadata": {},
   "source": [
    "**/your answer here/**"
   ]
  },
  {
   "cell_type": "markdown",
   "id": "c34da50b-962e-4d29-9fe9-f3c58504b947",
   "metadata": {},
   "source": [
    "&#9989; **Task 3.6:** Estimate a **minimum value** for `N` for this particular rod of charge that still seems to produce a good approximation -- where the computed values of electric potential closely match what you would expect to see for a continuous charge density. **Demonstrate your answer** using a contour plot."
   ]
  },
  {
   "cell_type": "markdown",
   "id": "4d909d93-3ec2-4390-b31a-50246f7564bc",
   "metadata": {},
   "source": [
    "**/your answer here (and below)/**"
   ]
  },
  {
   "cell_type": "code",
   "execution_count": 111,
   "id": "c8d23598-e555-427a-b7de-ba1cc614605f",
   "metadata": {},
   "outputs": [],
   "source": [
    "# your answer here (and above)"
   ]
  }
 ],
 "metadata": {
  "kernelspec": {
   "display_name": "Python 3 (ipykernel)",
   "language": "python",
   "name": "python3"
  },
  "language_info": {
   "codemirror_mode": {
    "name": "ipython",
    "version": 3
   },
   "file_extension": ".py",
   "mimetype": "text/x-python",
   "name": "python",
   "nbconvert_exporter": "python",
   "pygments_lexer": "ipython3",
   "version": "3.12.4"
  }
 },
 "nbformat": 4,
 "nbformat_minor": 5
}
