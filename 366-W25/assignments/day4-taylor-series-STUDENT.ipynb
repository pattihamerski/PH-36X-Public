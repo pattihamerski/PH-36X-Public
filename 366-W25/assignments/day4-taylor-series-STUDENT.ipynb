{
 "cells": [
  {
   "cell_type": "markdown",
   "id": "9aeaac00-92c7-4ce2-9631-0325bfffd4bd",
   "metadata": {},
   "source": [
    "# Day 4: Taylor Series"
   ]
  },
  {
   "cell_type": "markdown",
   "id": "0be719bc-a31a-4b62-aa91-bde94e038e3f",
   "metadata": {},
   "source": [
    "#### &#9989; **Write your name here**"
   ]
  },
  {
   "cell_type": "markdown",
   "id": "e82a2a23-0a47-49a6-921d-f65d884eed8f",
   "metadata": {},
   "source": [
    "Any function that is infinitely differentiable $(f(x) \\in C^\\infty)$ can be written using the power series\n",
    "\n",
    "$$f(x) = \\sum_{n=0}^\\infty \\frac{f^{(n)}(x_0)}{n!} (x-x_0)^n $$\n",
    "\n",
    "where $f^{(n)}(x_0)$ is the $n$th derivative of $f$ at $x = x_0$. For many functions in physics, it can be useful to use the infinite sum instead of the function itself. To make handling the infinite sum a littler easier, it can be both useful *and* practical to approximate the function with **just the first few terms** of the sum, especially when we are just interested in the behavior $f(x)$ pretty close to $x_0$."
   ]
  },
  {
   "cell_type": "markdown",
   "id": "1a5ff2ac-9063-4338-8b89-77d876dccd42",
   "metadata": {},
   "source": [
    "&#9989; **Task 0.1:** If we are only going to use the first few terms, we should make sure that later terms can be ignored. Explain why, when $x$ is close to $x_0$, we can ignore the terms $\\frac{f^{(n)}(x_0)}{n!} (x-x_0)^n$ for large values of $n$."
   ]
  },
  {
   "cell_type": "markdown",
   "id": "395d06d0-7a7d-4939-a3cb-b4f9b46374b7",
   "metadata": {},
   "source": [
    "**/your answer here/**"
   ]
  },
  {
   "cell_type": "markdown",
   "id": "ffe0546a-e057-4ff7-b4bf-d62010a60427",
   "metadata": {},
   "source": [
    "---\n",
    "## Part 1: Computing derivatives in a Taylor series\n",
    "\n",
    "Setting up the necessary information to compute a Taylor series means having:\n",
    "- A fixed value of the independent variable around which to compute the series ($x_0$)\n",
    "- A span of values of the independent variable near the fixed value (an array of $x$ values)\n",
    "- Values of $f^{(n)}(x_0)$ for many $n$, counting up from $n=0$"
   ]
  },
  {
   "cell_type": "markdown",
   "id": "ee9b0773-4df2-4215-8c60-f75178939508",
   "metadata": {},
   "source": [
    "The first two are relatively easy to decide on, but computing derivatives can be trickier. Consider the function $f(z) = (1 + z)^p$, where $p=-1$ or $-1/2$. Converting this expression into a polynomial can be key to solving certain tricky electrostatic integrals.\n",
    "\n",
    "A few steps of math can yield its derivatives:\n",
    "\n",
    "$$f^\\text{(n)}(z) = p(p-1)(p-2)\\ldots(p-n+1)(1+z)^{p-n}$$\n",
    "\n",
    "Let's avoid simplifying further into factorials of $p$, because we can't compute factorials of negative numbers or fractions, like $p=-1$ or $-1/2$."
   ]
  },
  {
   "cell_type": "markdown",
   "id": "39b59945-af05-421d-9753-9a3aea72669d",
   "metadata": {},
   "source": [
    "&#9989; **Task 1.1:** Let $f(z) = (1 + z)^p$, with $p = -1$. Let the fixed $z_0$ value be $z_0=1$. Compute values of the Taylor series of $f(z)$, only using the first two terms $n=0$ and $n=1$, for a span of $z$-values near $z_0$."
   ]
  },
  {
   "cell_type": "code",
   "execution_count": null,
   "id": "818112ea-5d33-4aa4-a3d4-0422a6422286",
   "metadata": {},
   "outputs": [],
   "source": [
    "# your answer here"
   ]
  },
  {
   "cell_type": "markdown",
   "id": "ee800677-e2e3-4379-8b90-b00e21ddb620",
   "metadata": {},
   "source": [
    "&#9989; **Task 1.2:** Plot the values you computed. Clearly label your visualization."
   ]
  },
  {
   "cell_type": "code",
   "execution_count": null,
   "id": "87e459b1-a6a3-4d80-834f-c40ccfedc6cc",
   "metadata": {},
   "outputs": [],
   "source": [
    "# your answer here"
   ]
  },
  {
   "cell_type": "markdown",
   "id": "ab793cae-ae84-4b9d-ab6c-e9104be98011",
   "metadata": {},
   "source": [
    "&#9989; **Task 1.3:** To compute series with more terms in the sum, we will need a quick way to compute the $n$th derivative of $f(z)$. Plan and **write a function** to do it. In your code, **provide documentation** to specify the purpose, inputs, and outputs of the function.\n",
    "- Function purpose: To compute $f^{(n)}(z_0)$ for a input value of $z_0$.\n",
    "- Inputs: You decide\n",
    "- Outputs: You decide"
   ]
  },
  {
   "cell_type": "code",
   "execution_count": null,
   "id": "f979e62f-0586-44f9-b7e3-ea3dc5590db0",
   "metadata": {},
   "outputs": [],
   "source": [
    "# your answer here"
   ]
  },
  {
   "cell_type": "markdown",
   "id": "eb4db789-774c-4d04-9e27-a827b2d90524",
   "metadata": {},
   "source": [
    "#### &#128721; **Stop here and check in with an instructor.**"
   ]
  },
  {
   "cell_type": "markdown",
   "id": "cdc8c391-dad8-420c-9116-33cdb773b146",
   "metadata": {},
   "source": [
    "---\n",
    "## Part 2: Computing Taylor series sums"
   ]
  },
  {
   "cell_type": "markdown",
   "id": "5404c82a-2415-49ed-a6bb-3d4b85ef6420",
   "metadata": {},
   "source": [
    "&#9989; **Task 2.1:** Use your function from Task 1.3 to **re-compute the Taylor series** of $f(z)$ for just the first two terms of the series, where $n=0$ and $n=1$. Visualize your approximation. \n",
    "\n",
    "You can use the code below, which provides a plot showing $z_0$. Your approximation should pass directly through this point when you plot it."
   ]
  },
  {
   "cell_type": "code",
   "execution_count": 114,
   "id": "1c568c20-b34d-4a59-b840-c6e2a85810f3",
   "metadata": {},
   "outputs": [
    {
     "data": {
      "image/png": "[encoded data removed]",
      "text/plain": [
       "<Figure size 640x480 with 1 Axes>"
      ]
     },
     "metadata": {},
     "output_type": "display_data"
    }
   ],
   "source": [
    "# your answer here\n",
    "\n",
    "\n",
    "\n",
    "plt.scatter([1], [0.5], s=50, color=\"red\", label=\"z0\", zorder=2)\n",
    "plt.legend()\n",
    "plt.show()"
   ]
  },
  {
   "cell_type": "markdown",
   "id": "eeaec2bc-8a88-4be1-bd42-89bbdce1f02f",
   "metadata": {},
   "source": [
    "&#9989; **Task 2.2:** Compute several Taylor series sums of all the terms $n=0$, $2$, $3$, ..., $N$. Compute 5 different approximations, for $N=1$, $2$, $3$, $4$, and $5$. Plot all 5 approximations below, and clearly label your visualization."
   ]
  },
  {
   "cell_type": "code",
   "execution_count": null,
   "id": "97950dd2-5fa9-4296-af2d-7f4b32da05bf",
   "metadata": {},
   "outputs": [],
   "source": [
    "# your answer here\n",
    "\n",
    "\n",
    "\n",
    "plt.scatter([1], [0.5], s=50, color=\"red\", label=\"z0\", zorder=2)\n",
    "plt.legend()\n",
    "plt.show()"
   ]
  },
  {
   "cell_type": "markdown",
   "id": "91047fe4-0fcb-4267-9b0e-dafb0005ca5d",
   "metadata": {},
   "source": [
    "&#9989; **Task 2.3:** Add the $N=100$ approximation to your plot."
   ]
  },
  {
   "cell_type": "code",
   "execution_count": null,
   "id": "36c36b7c-723f-4769-9694-0b7f97346a58",
   "metadata": {},
   "outputs": [],
   "source": [
    "# your answer here"
   ]
  },
  {
   "cell_type": "markdown",
   "id": "82df4561-753f-406a-a594-e15443c77f3b",
   "metadata": {},
   "source": [
    "#### &#128721; **Stop here and check in with an instructor.**"
   ]
  },
  {
   "cell_type": "markdown",
   "id": "7bbbdc2e-eb97-4fa8-896a-7444cc98a6ea",
   "metadata": {},
   "source": [
    "---\n",
    "## Part 3: Comparing Taylor series and the Euler method\n",
    "\n",
    "Both Taylor series and the Euler method are numerical methods that help us make approximations. However, they serve different purposes and have different implementations. Review the table below."
   ]
  },
  {
   "cell_type": "markdown",
   "id": "2cb36293-2505-4b06-b822-d0097d1f8597",
   "metadata": {},
   "source": [
    "| | Euler Method | Taylor Series |\n",
    "|-|-|-|\n",
    "| **Formula** | $ y_{i+1} = y_i + \\left.\\frac{dy}{dx}\\right|_{x=x_i,\\text{ }y=y_i} \\Delta x $ | $ f(x) = \\sum_{n \\ge 0} \\frac{f^{(n)}(x_0)}{n!} (x-x_0)^n $ |\n",
    "| **Starting info needed** | formula for $\\frac{dy}{dx}$ <br> values of $x$, separated by $\\Delta x$ <br> $y_0 = y(x_0)$ | $x_0$ <br> $f^{(n)}(x_0)$ for $n = 0, 1, 2, 3,$ ... <br> values of $x$ |\n",
    "| **Values of independent variable ($x$)** | sequentially increasing $x$-values starting at $x_0$ | any values, but better approximations for $x$ closer to $x_0$ |\n",
    "| **Values of dependent variable ($y(x)$ or $f(x)$) computed at each step** | sequential values of $y(x)$, using $y$-value from previous step | no steps; computation occurs all at once |\n",
    "| **Code format** |  `y_vals = np.zeros(len(x_vals))` <br> `yi = y0` <br> ` ` <br> `for i in range(len(x_vals)):` <br> `    xi = x_vals[i]` <br> `    y_vals[i] = yi`<br> `    yi += dydx(xi, yi) * dx` | ***`your pseudocode` <br> `from Task 3.1`*** |\n",
    "| **Ideal usage** | Approximations further and further away from a known value whose first derivative is known everywhere | Approximations physically close a point where derivatives of all orders are known at a single point |\n",
    "| ***Your own row*** | ***Your answer to Task 3.2*** | ***Your answer to Task 3.2*** |"
   ]
  },
  {
   "cell_type": "markdown",
   "id": "4b106c3f-8bfe-4e50-90b3-b41a4fdf8dfb",
   "metadata": {},
   "source": [
    "&#9989; **Task 3.1:** Write the general code format for Taylor series in pseudocode."
   ]
  },
  {
   "cell_type": "markdown",
   "id": "1cf3119f-6149-4d7e-b4c2-fcac8ef06e7f",
   "metadata": {},
   "source": [
    "```\n",
    "your\n",
    "pseudocode\n",
    "here\n",
    "```"
   ]
  },
  {
   "cell_type": "markdown",
   "id": "5798a3c4-75f3-49a4-b69f-98467696f94d",
   "metadata": {},
   "source": [
    "&#9989; **Task 3.2:** What is another way to compare these two numerical methods that is not covered in the table? Describe your comparison below."
   ]
  },
  {
   "cell_type": "markdown",
   "id": "b4981d6e-f686-407f-b333-f0d625227450",
   "metadata": {},
   "source": [
    "**/your answer here/**"
   ]
  }
 ],
 "metadata": {
  "kernelspec": {
   "display_name": "Python 3 (ipykernel)",
   "language": "python",
   "name": "python3"
  },
  "language_info": {
   "codemirror_mode": {
    "name": "ipython",
    "version": 3
   },
   "file_extension": ".py",
   "mimetype": "text/x-python",
   "name": "python",
   "nbconvert_exporter": "python",
   "pygments_lexer": "ipython3",
   "version": "3.12.4"
  }
 },
 "nbformat": 4,
 "nbformat_minor": 5
}
