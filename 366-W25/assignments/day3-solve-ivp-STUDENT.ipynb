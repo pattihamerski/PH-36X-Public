{
 "cells": [
  {
   "cell_type": "markdown",
   "id": "06faf660-8160-4204-ae44-1ae9fc0ee727",
   "metadata": {},
   "source": [
    "# Day 3: Functions in the Euler Method and `solve_ivp`"
   ]
  },
  {
   "cell_type": "markdown",
   "id": "75e9ab70-fca6-4323-8ec6-e7050599e808",
   "metadata": {},
   "source": [
    "#### &#9989; **Write your name here**"
   ]
  },
  {
   "cell_type": "markdown",
   "id": "952af0fd-c17e-4861-a402-e412d625d03d",
   "metadata": {},
   "source": [
    "To begin, work on finishing your code from Day 2. You can continue your work below, or work directly in your Day 2 notebook (and then skip to Part 2)."
   ]
  },
  {
   "cell_type": "markdown",
   "id": "bc159c17-cabb-423c-bd3f-8d7824a70c7a",
   "metadata": {},
   "source": [
    "---\n",
    "## Part 1: Finishing Day 2 (Parts 3 and 4 copied here)"
   ]
  },
  {
   "cell_type": "markdown",
   "id": "c826056d-650a-454e-aa73-96211c049629",
   "metadata": {},
   "source": [
    "&#9989; **(Day 2) Task 3.1:** Copy your documentation for your function from Task 2.2 below, and write a couple lines of code below it: the function definition, and the return/output line. Leave the implementation empty for now. It should be structured something like this:\n",
    "\n",
    "```\n",
    "# your\n",
    "# function\n",
    "# documentation\n",
    "\n",
    "def Euler(arg1, arg2, arg3):\n",
    "    # implementation\n",
    "    # empty\n",
    "    # for now\n",
    "    return output\n",
    "```"
   ]
  },
  {
   "cell_type": "code",
   "execution_count": 1,
   "id": "6a636108-8352-4e5d-9253-350ca9a77c60",
   "metadata": {},
   "outputs": [],
   "source": [
    "# your answer here"
   ]
  },
  {
   "cell_type": "markdown",
   "id": "9cb2d8b7-0ae7-48f6-b4d9-84b6d0283104",
   "metadata": {},
   "source": [
    "&#9989; **(Day 2) Task 3.2:** It's time to plan your implementation. Consult the resources you have: your plans from Part 2, your coded Euler method from Day 1, and/or your instructors. Write your plan for converting arguments into output in code, on your whiteboard and/or in psuedocode below."
   ]
  },
  {
   "cell_type": "markdown",
   "id": "ebb9efd6-0bf1-43c3-9cb9-340390e64c2f",
   "metadata": {},
   "source": [
    "**your plan here, and/or on your whiteboard at your table**\n",
    "\n",
    "```\n",
    "feel free\n",
    "to write\n",
    "psuedocode\n",
    "```"
   ]
  },
  {
   "cell_type": "markdown",
   "id": "a90190fa-5b1f-4800-b67a-bc1d779eac3a",
   "metadata": {},
   "source": [
    "&#9989; **(Day 2) Task 3.3:** Copy and paste your starting point from Task 3.1, and write your implementation into your function!"
   ]
  },
  {
   "cell_type": "code",
   "execution_count": 2,
   "id": "e98f66a7-2b96-4cc5-b092-d2e1d91b22a2",
   "metadata": {},
   "outputs": [],
   "source": [
    "# your answer here"
   ]
  },
  {
   "cell_type": "markdown",
   "id": "599084f1-f046-4507-a3f8-13c5047c8958",
   "metadata": {},
   "source": [
    "#### &#128721; **Stop here and check in with an instructor.**"
   ]
  },
  {
   "cell_type": "markdown",
   "id": "1c23fd68-6624-4055-9486-bc3cfe9fcf84",
   "metadata": {},
   "source": [
    "&#9989; **(Day 2) Task 4.1:** Try out your function, using `dTdt` as your derivative, and the provided inputs. Feel free to alter the provided values to match your planned arguments."
   ]
  },
  {
   "cell_type": "code",
   "execution_count": 4,
   "id": "fa2ea63b-1f42-4060-b63d-eb030e1e2204",
   "metadata": {},
   "outputs": [],
   "source": [
    "# provided argument values\n",
    "# probably more values than you need for your function\n",
    "\n",
    "import numpy as np\n",
    "\n",
    "# known derivative\n",
    "# T: temperature\n",
    "# tau and Tenv are constants, defaulting to 500 1/s and 20 degrees C\n",
    "# output: dT/dt\n",
    "def dTdt(T, tau=500, Tenv=20):\n",
    "    return -1 / tau * (T - Tenv)\n",
    "\n",
    "# initial temp\n",
    "T0 = 100\n",
    "\n",
    "# time values\n",
    "t0 = 0\n",
    "tf = 3600\n",
    "dt = 1\n",
    "t_vals = np.arange(t0, tf, dt)"
   ]
  },
  {
   "cell_type": "code",
   "execution_count": 5,
   "id": "e4b3b0ef-f4fe-43d0-9963-ef3872bac272",
   "metadata": {},
   "outputs": [],
   "source": [
    "# your answer here\n",
    "# call your Euler function here"
   ]
  },
  {
   "cell_type": "markdown",
   "id": "0cee51aa-d747-4bdf-a559-fb67a822508d",
   "metadata": {},
   "source": [
    "&#9989; **(Day 2) Task 4.2:** Using your output, create a visualization of temperature vs. time (i.e., temperature on the y-axis, time on the x-axis). Label your plot clearly."
   ]
  },
  {
   "cell_type": "code",
   "execution_count": 7,
   "id": "40c8e264-d099-4b1d-bd55-7ff072f87f17",
   "metadata": {},
   "outputs": [],
   "source": [
    "# your answer here"
   ]
  },
  {
   "cell_type": "markdown",
   "id": "89c6e2b2-766f-4d59-b846-b57ec8d56f98",
   "metadata": {},
   "source": [
    "&#9989; **(Day 2) Task 4.3:** Try out your function, using `dIdt` as your derivative, which represents the current in an RC circuit as a capacitor charges. Feel free to alter the provided values to match your planned arguments. Using your output, create a visualization of current vs. time. Label your plot clearly."
   ]
  },
  {
   "cell_type": "code",
   "execution_count": 9,
   "id": "5f542c0e-f5c1-4c46-afe3-a2256753ee02",
   "metadata": {},
   "outputs": [],
   "source": [
    "# provided argument values\n",
    "# probably more values than you need for your function\n",
    "\n",
    "# known derivative\n",
    "# I: current\n",
    "# R and C are constants, defaulting to 100 ohms and 6 mF\n",
    "# output: dI/dt\n",
    "def dIdt(I, R=100, C=0.006):\n",
    "    return -I / (R * C)\n",
    "\n",
    "# initial current value\n",
    "I0 = 0.05\n",
    "\n",
    "# time values\n",
    "t0 = 0\n",
    "tf = 2\n",
    "dt = 0.01\n",
    "t_vals = np.arange(t0, tf, dt)"
   ]
  },
  {
   "cell_type": "code",
   "execution_count": 10,
   "id": "624b7f9e-423b-493d-ad8c-71a41058c7aa",
   "metadata": {},
   "outputs": [],
   "source": [
    "# your answer here\n",
    "# call your Euler function here"
   ]
  },
  {
   "cell_type": "markdown",
   "id": "d867be3f-41ec-48bd-8aa7-4048fdea85be",
   "metadata": {},
   "source": [
    "---\n",
    "## Part 2: Using `solve_ivp`\n",
    "\n",
    "Next, we will use a function called `solve_ivp`, which stands for \"solve an initial value problem.\" This function comes from the SciPy library, and requires a specific set of inputs when called. It can be used to solve problems similar to your Euler method function, but with more precision.\n",
    "\n",
    "Follow the steps below to learn how to use it."
   ]
  },
  {
   "cell_type": "markdown",
   "id": "f35c4ed9-6b36-43a1-b532-08b11655427d",
   "metadata": {},
   "source": [
    "#### **Step 1: Importing**\n",
    "\n",
    "Use this code chunk to gain access to `solve_ivp` and other relevant tools."
   ]
  },
  {
   "cell_type": "code",
   "execution_count": 12,
   "id": "0f4c99c6-deb5-4c88-987f-9e22461e3200",
   "metadata": {},
   "outputs": [],
   "source": [
    "from scipy.integrate import solve_ivp\n",
    "import numpy as np\n",
    "import matplotlib.pyplot as plt"
   ]
  },
  {
   "cell_type": "markdown",
   "id": "ee5777b8-6c13-4e0e-8e17-39da3012ab87",
   "metadata": {},
   "source": [
    "#### **Step 2: Define a function to capture your ODE**\n",
    "\n",
    "The first input to `solve_ivp` is a function. Go back and read that sentence again. The first input to `solve_ivp` is *itself* a function that computes a derivative.\n",
    "\n",
    "Let's go through this example, using the ODE for the current in an RC-circuit right when it gets turned on.\n",
    "\n",
    "$$\\frac{dI}{dt} = -\\frac{I}{RC}$$\n",
    "\n",
    "**&#9989; Task 2.1:** Complete the function below. Read the comments carefully to learn how a differential function must be defined when you use it for `solve_ivp`. The structure of this function is required to fit a specific format in order for `solve_ivp` to work properly."
   ]
  },
  {
   "cell_type": "code",
   "execution_count": 13,
   "id": "77364d30-6a30-40d7-8769-ff687ccec8bd",
   "metadata": {},
   "outputs": [],
   "source": [
    "# Function to compute an ODE (or multiple ODEs)\n",
    "\n",
    "# inputs: t, curr_vals, other parameters\n",
    "# t: required to be first input, not needed in the function itself\n",
    "# curr_vals: a single input formatted as a list of values\n",
    "#    for which ODEs are being computed\n",
    "# more parameters: other constants to be used in the ODE(s)\n",
    "# output: derivatives of each variable in curr_vals,\n",
    "#    separated by commas if there are multiple\n",
    "\n",
    "def diff_I(t, curr_vals, R, C):\n",
    "    # extract I from curr_vals\n",
    "    I = curr_vals[0]\n",
    "    \n",
    "    # compute derivatives of all variables\n",
    "    # ADD CODE HERE TO MAKE THIS FUNCTION WORK\n",
    "    \n",
    "    # output all derivatives\n",
    "    return dIdt"
   ]
  },
  {
   "cell_type": "markdown",
   "id": "c1e61306-f7be-4a9e-895b-be51b973ba37",
   "metadata": {},
   "source": [
    "#### **Step 3: Set initial conditions, times, and other parameter values**\n",
    "\n",
    "The second input to `solve_ivp` is a **tuple** (like a list, but with parentheses instead of square brackets) of the beginning time value and the ending time value. We will start at 0 seconds, and end at 2 seconds.\n",
    "\n",
    "The third input to `solve_ivp` is a **list** of initial conditions. We will start with a current of 50 mA.\n",
    "\n",
    "The fourth input to `solve_ivp` is a **NumPy array** of times. Again, we will go from 0 to 2 seconds, with a small increment. Smaller increments mean more precise results and smoother visualizations.\n",
    "\n",
    "The final input to `solve_ivp` is a **tuple** of the other constant parameter values. In our example, we will use a resistor of 100 $\\Omega$ and a capacitor of 6 mF."
   ]
  },
  {
   "cell_type": "code",
   "execution_count": 15,
   "id": "5dca6640-daa1-42ab-b4f4-3779dac36206",
   "metadata": {},
   "outputs": [],
   "source": [
    "# start time and end time, as a tuple\n",
    "t_start = 0\n",
    "t_end = 2\n",
    "t_tuple = (t_start, t_end)\n",
    "\n",
    "# initial conditions, as a list\n",
    "I0 = 0.05\n",
    "init = [I0]\n",
    "\n",
    "# time array, as a numpy array with small increment\n",
    "dt = 0.01\n",
    "t_array = np.arange(t_start, t_end, dt)\n",
    "\n",
    "# constant parameters, as a tuple\n",
    "R = 100\n",
    "C = 0.006\n",
    "params = (R, C)"
   ]
  },
  {
   "cell_type": "markdown",
   "id": "c6e0e3f1-b58a-4343-a5e1-bbbff197a6f0",
   "metadata": {},
   "source": [
    "#### **Step 4: Call `solve_ivp`**\n",
    "\n",
    "At this point, we have everything we need to call `solve_ivp`. We can do this using the following format:\n",
    "\n",
    "```\n",
    "sol = solve_ivp(ODE_func, time_tuple, initial_values, t_eval=times, args=parameters)\n",
    "```\n",
    "\n",
    "Notice:\n",
    "- We need to assign the output of `solve_ivp` to a new variable (we're calling it `sol` in this example).\n",
    "- The default variables have specific names: `t_eval` and `args`. These names must be included when calling `solve_ivp`.\n",
    "\n",
    "**&#9989; Task 2.2:** Call `solve_ivp`, using the corresponding inputs designed in the previous couple steps."
   ]
  },
  {
   "cell_type": "code",
   "execution_count": 16,
   "id": "6773fce9-d40b-4186-83ed-508520a75234",
   "metadata": {},
   "outputs": [
    {
     "ename": "SyntaxError",
     "evalue": "invalid syntax (3097861144.py, line 2)",
     "output_type": "error",
     "traceback": [
      "\u001b[0;36m  Cell \u001b[0;32mIn[16], line 2\u001b[0;36m\u001b[0m\n\u001b[0;31m    sol =\u001b[0m\n\u001b[0m          ^\u001b[0m\n\u001b[0;31mSyntaxError\u001b[0m\u001b[0;31m:\u001b[0m invalid syntax\n"
     ]
    }
   ],
   "source": [
    "# add code here\n",
    "sol = "
   ]
  },
  {
   "cell_type": "markdown",
   "id": "c7ecc4b6-f4b1-4fdf-8f91-74c782a29405",
   "metadata": {},
   "source": [
    "#### **Step 5: Plot the results**\n",
    "\n",
    "We are ready to extract the results from `solve_ivp` and plot them. To do so, let's first take a look at what `sol`, the output of `solve_ivp`, looks like."
   ]
  },
  {
   "cell_type": "code",
   "execution_count": 23,
   "id": "d46a1098-81d4-454f-b139-9a889261f28a",
   "metadata": {},
   "outputs": [
    {
     "data": {
      "text/plain": [
       "  message: The solver successfully reached the end of the integration interval.\n",
       "  success: True\n",
       "   status: 0\n",
       "        t: [ 0.000e+00  1.000e-02 ...  1.980e+00  1.990e+00]\n",
       "        y: [[ 5.000e-02  4.917e-02 ...  1.847e-03  1.817e-03]]\n",
       "      sol: None\n",
       " t_events: None\n",
       " y_events: None\n",
       "     nfev: 32\n",
       "     njev: 0\n",
       "      nlu: 0"
      ]
     },
     "execution_count": 23,
     "metadata": {},
     "output_type": "execute_result"
    }
   ],
   "source": [
    "# run this code\n",
    "sol"
   ]
  },
  {
   "cell_type": "markdown",
   "id": "1fbca497-5f2c-4f30-908c-99fd49f9d435",
   "metadata": {},
   "source": [
    "Notice how we have numerical values stored in arrays at `t` and `y`. These are the time values (`t`) that `solve_ivp` used to solve our initial value problem, and the solution (`y`). We can access these using `sol.t` and `sol.y[0]`. We use a 0-index to access the solution for the current in the circuit, because `I` is the first (and only) variable we solved for. If we had multiple ODEs, or multiple variables to solve for in our initial value problem, those solutions would be stored in `sol.y[0]`, `sol.y[1]`, `sol.y[2]`, and so on."
   ]
  },
  {
   "cell_type": "code",
   "execution_count": 24,
   "id": "da85a946-836c-47c9-bf31-f96feac945e5",
   "metadata": {},
   "outputs": [],
   "source": [
    "t = sol.t\n",
    "I = sol.y[0]"
   ]
  },
  {
   "cell_type": "markdown",
   "id": "a68da89b-63c1-4171-b3d0-41f89a88927e",
   "metadata": {},
   "source": [
    "**&#9989; Task 2.3:** Arrays of $t$ values and $I$ values have been extracted from `sol`. Plot time on the x-axis, and current on the y-axis. Make sure your visualization is labeled clearly."
   ]
  },
  {
   "cell_type": "code",
   "execution_count": 25,
   "id": "f27c073c-7012-40d8-8fd8-64d64786e29d",
   "metadata": {},
   "outputs": [],
   "source": [
    "# your answer here"
   ]
  },
  {
   "cell_type": "markdown",
   "id": "d107dda3-3731-4eb5-a298-15892a8c9ddb",
   "metadata": {},
   "source": [
    "#### &#128721; **Stop here and check in with an instructor.**"
   ]
  },
  {
   "cell_type": "markdown",
   "id": "20d0999d-8be4-47e7-8891-8e6c82c6b2bb",
   "metadata": {},
   "source": [
    "---\n",
    "\n",
    "## Part 3: Solve an initial value problem from scratch\n",
    "\n",
    "Team up with a small group of peers and work together to solve the problem below. Your job is to: \n",
    "- create the ODE function and other necessary inputs for `solve_ivp`\n",
    "- use `solve_ivp` to approximate a solution\n",
    "- use your Euler method function from Day 2 to approximate a solution\n",
    "- visualize the comparison between the two approximation and the exact solution (this will be given)"
   ]
  },
  {
   "cell_type": "markdown",
   "id": "4f8d169c-165f-4632-b06a-8518405046a2",
   "metadata": {},
   "source": [
    "&#9989; **Task 3.1: Cooling cheese in the fridge**\n",
    "\n",
    "Complete the above objectives for the temperature of a block of room temperature cheese that has been put in the fridge to cool. Here is some relevant info.\n",
    "\n",
    "- The ODE is:\n",
    "\n",
    "$$\\frac{dT}{dt} = -\\frac{1}{\\tau} (T - T_{\\text{env}})$$\n",
    "\n",
    "- $\\tau$ is a time constant of heat transfer, and it equals 5,000 s\n",
    "- $T_\\text{env}$ is the surrounding temperature, which is the fridge, set to 2 °C\n",
    "- Initial temperature of the cheese is 20 °C\n",
    "- Model the cheese for at least 4 hours in the fridge (14,400 seconds)\n",
    "\n",
    "<img src=\"https://www.tastingtable.com/img/gallery/the-reason-you-shouldnt-store-cheese-in-the-refrigerator-door/l-intro-1650486884.jpg\"\n",
    "     alt=\"Cheese in the fridge\"\n",
    "     width=\"400\"\n",
    "/>"
   ]
  },
  {
   "cell_type": "code",
   "execution_count": 27,
   "id": "109c0db1-1c1c-41e7-8649-417d486efaec",
   "metadata": {},
   "outputs": [],
   "source": [
    "# your answer here"
   ]
  },
  {
   "cell_type": "code",
   "execution_count": 39,
   "id": "a91b1bca-3c48-41c3-88f8-7dc964cb80ca",
   "metadata": {},
   "outputs": [
    {
     "data": {
      "image/png": "[encoded data removed]",
      "text/plain": [
       "<Figure size 640x480 with 1 Axes>"
      ]
     },
     "metadata": {},
     "output_type": "display_data"
    }
   ],
   "source": [
    "# exact solution is given here for comparison\n",
    "# feel free to add to this code chunk\n",
    "\n",
    "t_exact = np.arange(0, 14400, 300)\n",
    "plt.plot(t_exact, 2 + 18 * np.exp(-0.0002 * t_exact), label=\"exact solution\")\n",
    "\n",
    "plt.xlabel(\"time (s)\")\n",
    "plt.ylabel(\"temperature (°C)\")\n",
    "plt.title(\"Cooling down cheese in the fridge\")\n",
    "plt.legend()\n",
    "plt.show()"
   ]
  },
  {
   "cell_type": "markdown",
   "id": "6ab1a4d1-9255-49fc-aa03-a96c35d92da9",
   "metadata": {},
   "source": [
    "&#9989; **Task 3.2:** Compare your two approximations to the exact solution. Provide a visualization to demonstrate this comparison. If there seems to be too much overlap to see a difference, try this:\n",
    "- Increase your time-step to at least 5 minutes (300 seconds).\n",
    "- Zoom in on the plotted curves using the `xlim` and the `ylim` functions."
   ]
  },
  {
   "cell_type": "markdown",
   "id": "bb3e249d-6a07-4440-a63b-fad3af94e425",
   "metadata": {},
   "source": [
    "#### &#128721; **Stop here and check in with an instructor.**"
   ]
  },
  {
   "cell_type": "markdown",
   "id": "776ba144-ac06-4754-8bd1-e41df376fb9e",
   "metadata": {},
   "source": [
    "&#9989; **Task 3.3:** Discuss these questions with peers, and write your notes in the space below.\n",
    "\n",
    "- By default, `solve_ivp` uses a 4th-order Runge-Kutta method to solve the ODE, compared to the Euler method, which is a 1st-order Runge-Kutta method. What does **order** mean here, and why does it matter?\n",
    "- How confident are you that `solve_ivp` would give you an accurate approximation, if you didn't have any exact solution to compare it to?\n",
    "- What can you change in the `solve_ivp` inputs to give you a more precise approximation?\n",
    "- What if you had **multiple ODEs** that you needed to solve for different unknown variables (for example, position and velocity in projectile motion)? Do you feel confident adjusting your usage of `solve_ivp` to account for this? What questions or challenges would you anticipate having?"
   ]
  },
  {
   "cell_type": "markdown",
   "id": "fcac1422-77b1-4aa3-9cab-2a3ead2a76e3",
   "metadata": {},
   "source": [
    "**/your discussion notes here/**"
   ]
  }
 ],
 "metadata": {
  "kernelspec": {
   "display_name": "Python 3 (ipykernel)",
   "language": "python",
   "name": "python3"
  },
  "language_info": {
   "codemirror_mode": {
    "name": "ipython",
    "version": 3
   },
   "file_extension": ".py",
   "mimetype": "text/x-python",
   "name": "python",
   "nbconvert_exporter": "python",
   "pygments_lexer": "ipython3",
   "version": "3.12.4"
  }
 },
 "nbformat": 4,
 "nbformat_minor": 5
}
