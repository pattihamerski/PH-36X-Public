{
 "cells": [
  {
   "cell_type": "markdown",
   "id": "9aeaac00-92c7-4ce2-9631-0325bfffd4bd",
   "metadata": {},
   "source": [
    "# Day 5: Taylor Series of Electric Potential"
   ]
  },
  {
   "cell_type": "markdown",
   "id": "0be719bc-a31a-4b62-aa91-bde94e038e3f",
   "metadata": {},
   "source": [
    "#### &#9989; **Write your name here**"
   ]
  },
  {
   "cell_type": "markdown",
   "id": "e82a2a23-0a47-49a6-921d-f65d884eed8f",
   "metadata": {},
   "source": [
    "We can use Taylor series approximations to find physical quantities very close to fixed point. This is useful because sometimes the fixed point can have nice symmetry that makes information about the physical quantity easy to know, whereas nearby the math can become very complicated very quickly. Taylor series solves this issue.\n",
    "\n",
    "Taylor series tells us that we can write our physical quantity ($f(x)$) in terms of its derivatives at the fixed point ($x_0$):\n",
    "\n",
    "$$f(x) = \\sum_{n=0}^\\infty \\frac{f^{(n)}(x_0)}{n!} (x-x_0)^n $$\n",
    "\n",
    "where $f^{(n)}(x_0)$ is the $n$th derivative of $f$ at the point $x_0$."
   ]
  },
  {
   "cell_type": "markdown",
   "id": "8eb5645e-5a00-42bb-ad6b-d12e5074a8e8",
   "metadata": {},
   "source": [
    "In Day 4, we found the $n$th derivative of $f(z) = (1 + z)^p$:\n",
    "\n",
    "$$f^\\text{(n)}(z) = p(p-1)(p-2)\\ldots(p-n+1)(1+z)^{p-n}$$"
   ]
  },
  {
   "cell_type": "markdown",
   "id": "1a5ff2ac-9063-4338-8b89-77d876dccd42",
   "metadata": {},
   "source": [
    "&#9989; **Task 0.1:** The code below is a function to compute $f^\\text{(n)}(z_0)$, with the constant parameter $p=-\\frac{1}{2}$. Read through the function and **add documentation and comments** as indicated to explain how the function works."
   ]
  },
  {
   "cell_type": "code",
   "execution_count": 4,
   "id": "f7c7481e-e056-476e-b700-5f9a788de9f4",
   "metadata": {},
   "outputs": [],
   "source": [
    "# fn: computes the nth derivative of f at z0\n",
    "# inputs:\n",
    "# output:\n",
    "def fn(z0, n, p=-1/2):\n",
    "    '''\n",
    "    if you prefer, you can place your \n",
    "    documentation in this docstring instead\n",
    "    '''\n",
    "    product = 1\n",
    "    # add comment to explain the line below\n",
    "    for i in range(n):\n",
    "        # add comment to explain the line below\n",
    "        product *= (p - i)\n",
    "    return product * (1 + z0) ** (p - n)"
   ]
  },
  {
   "cell_type": "markdown",
   "id": "42008497-2a44-4803-80ea-85cfa5d42b01",
   "metadata": {},
   "source": [
    "We can use $f^\\text{(n)}(z_0)$ to derive the Taylor series of $f(z)$ near a fixed point $z_0$:\n",
    "\n",
    "$$f(z) = \\sum_{n=0}^{n \\le N} \\frac{f^\\text{(n)}(z_0)}{n!} (z-z_0)^n $$\n",
    "\n",
    "When we compute this sum using our computational resources, we can use only the first several terms ($n=0$ through $n=N$), because as $n$ gets bigger, the terms themselves become very small when $z$ is close to $z_0$. That is why we wrote $N$ on top of the sum instead of $\\infty$."
   ]
  },
  {
   "cell_type": "markdown",
   "id": "04413a26-fa45-405c-9e9f-184cd8dd3778",
   "metadata": {},
   "source": [
    "---\n",
    "## Part 1: Taylor series of electric potential\n",
    "\n",
    "Let's use Taylor series to approximate the electric potential from four charges of charge $Q$ arranged in a square of sidelength $2a$ centered on the $xy$-plane. We will compute the electric potential along the $x$-axis."
   ]
  },
  {
   "cell_type": "markdown",
   "id": "f522bc9d-226f-4cad-bccb-9b499588d997",
   "metadata": {},
   "source": [
    "<img src=\"https://raw.githubusercontent.com/pattihamerski/PH-36X-Public/refs/heads/main/images/four-charges.png\"\n",
    "     alt=\"Four charges of charge Q arranged in a square of sidelength 2a centered on the xy-plane\"\n",
    "     width=\"400\"\n",
    "/>"
   ]
  },
  {
   "cell_type": "markdown",
   "id": "1d7068e0-99a5-4d61-89f1-67c04b8a501e",
   "metadata": {},
   "source": [
    "We can begin with a general formula for electric potential:\n",
    "\n",
    "$$V(\\vec{r}) = \\sum_i \\frac{k q_i}{\\left|\\vec{r}-\\vec{r}_i\\right|}$$"
   ]
  },
  {
   "cell_type": "markdown",
   "id": "3f309912-d5cf-43ac-8b15-31ac26da1ce5",
   "metadata": {},
   "source": [
    "Then, since we know $\\vec{r}$ (points along the $x$-axis), $q_i$ (all $Q$), and $\\vec{r_i}$ (the four locations in the square shown above), we can begin to flesh out an expression for potential along the $x$-axis, which we define as $V_x$:"
   ]
  },
  {
   "cell_type": "markdown",
   "id": "f916d843-fbc3-4644-be82-efd6e2da9a00",
   "metadata": {},
   "source": [
    "$$\\begin{align}\n",
    "V_x(x) := V(\\langle x, 0, 0 \\rangle) &= \\sum_i \\frac{k Q}{\\left|\\langle x, 0, 0 \\rangle-\\vec{r}_i\\right|} \\\\\n",
    "&= \\frac{k Q}{\\left|\\langle x+a, a, 0 \\rangle\\right|} + \\frac{k Q}{\\left|\\langle x+a, -a, 0 \\rangle\\right|} + \\frac{k Q}{\\left|\\langle x-a, -a, 0 \\rangle\\right|} + \\frac{k Q}{\\left|\\langle x-a, a, 0 \\rangle\\right|} \\\\\n",
    "&= \\frac{2kQ}{\\left((x+a)^2 + a^2\\right)^\\frac{1}{2}} + \\frac{2kQ}{\\left((x-a)^2 + a^2\\right)^\\frac{1}{2}} \\\\\n",
    "&= \\frac{2kQ}{a}\\left(\\left(\\left(\\frac{x}{a}+1\\right)^2 + 1\\right)^{-\\frac{1}{2}} + \\left(\\left(\\frac{x}{a}-1\\right)^2 + 1\\right)^{-\\frac{1}{2}}\\right)\n",
    "\\end{align}$$"
   ]
  },
  {
   "cell_type": "markdown",
   "id": "9006fbb1-a649-41c2-b7c9-5b94d0339fa1",
   "metadata": {},
   "source": [
    "We leave the expression in wonky-looking state so that we can perform the following substitutions:"
   ]
  },
  {
   "cell_type": "markdown",
   "id": "522a02f5-ced6-428a-a171-8f2897b90b0f",
   "metadata": {},
   "source": [
    "$$u := \\left(\\frac{x}{a}+1\\right)^2,\\text{ }\\text{ } v := \\left(\\frac{x}{a}-1\\right)^2$$\n",
    "\n",
    "$$ f(z) := \\left(1+z\\right)^p, \\text{ }\\text{ } p = -\\frac{1}{2}$$"
   ]
  },
  {
   "cell_type": "markdown",
   "id": "9a5eefea-2a22-41df-af0d-ca8d446db56e",
   "metadata": {},
   "source": [
    "This results in:\n",
    "\n",
    "$$V_x(x) = \\frac{2kQ}{a}\\left(f(u) + f(v)\\right)$$"
   ]
  },
  {
   "cell_type": "markdown",
   "id": "61a00005-5683-412b-9cfe-6bd2e5834fbe",
   "metadata": {},
   "source": [
    "When we think about taking the Taylor series of this final expression, note that expanding around $u_0=1$ and $v_0=1$ is equivalent to $x_0=0$, from how $u$ and $v$ are defined."
   ]
  },
  {
   "cell_type": "markdown",
   "id": "e4848598-e013-4f62-94c1-1f64ed985b14",
   "metadata": {},
   "source": [
    "&#9989; **Task 1.1:** The code below computes the Taylor series derived above and plots several approximations from the series, where $a = 1\\text{ m}$ and $Q = 1 \\cdot 10^{-10}\\text{ C}$. Read through the code and **add comments** as indicated to explain how it works. Also **add additional plotting commands** to make it easier to compare the approximations near $x_0=0$ and to labels to clearly state what the visualization is showing."
   ]
  },
  {
   "cell_type": "code",
   "execution_count": 5,
   "id": "6dea9c06-e6e5-4e86-ab84-95b1e7a3d8e3",
   "metadata": {},
   "outputs": [
    {
     "data": {
      "image/png": "[encoded data removed]",
      "text/plain": [
       "<Figure size 640x480 with 1 Axes>"
      ]
     },
     "metadata": {},
     "output_type": "display_data"
    }
   ],
   "source": [
    "import numpy as np\n",
    "import matplotlib.pyplot as plt\n",
    "import math\n",
    "\n",
    "a = 1\n",
    "k = 8.99e9\n",
    "Q = 1e-10\n",
    "\n",
    "# add comment to explain the line below\n",
    "x_vals = np.linspace(-2 * a, 2 * a, 1000)\n",
    "# add comment to explain the lines below\n",
    "u_vals = (x_vals / a + 1) ** 2\n",
    "v_vals = (x_vals / a - 1) ** 2\n",
    "u0 = 1\n",
    "v0 = 1\n",
    "\n",
    "# add comment to explain the lines below\n",
    "approx_fu = fn(u0, 0)\n",
    "approx_fv = fn(v0, 0)\n",
    "\n",
    "# add comment to explain the line below\n",
    "N = 10\n",
    "\n",
    "# add comment to explain the line below\n",
    "for n in range(1, N + 1, 1):\n",
    "    # add comment to explain the lines below\n",
    "    term_fu = fn(u0, n) / math.factorial(n) * (u_vals - u0) ** n\n",
    "    term_fv = fn(v0, n) / math.factorial(n) * (v_vals - v0) ** n\n",
    "    # add comment to explain the lines below\n",
    "    approx_fu += term_fu\n",
    "    approx_fv += term_fv\n",
    "    # add comment to explain the line below\n",
    "    approx_Vx = 2 * k * Q / a * (approx_fu + approx_fv)\n",
    "    # add comment to explain the line below\n",
    "    plt.plot(x_vals, approx_Vx, label=\"n ≤ %d\"%n)\n",
    "\n",
    "# add code to improve the plot\n",
    "plt.show()"
   ]
  },
  {
   "cell_type": "markdown",
   "id": "623efe9e-852f-428b-8cfe-e02dbe8e2de4",
   "metadata": {},
   "source": [
    "#### &#128721; **Stop here and check in with an instructor.**"
   ]
  },
  {
   "cell_type": "markdown",
   "id": "c80cdb3b-677e-4fd1-8bd1-7692edd4ba60",
   "metadata": {},
   "source": [
    "&#9989; **Task 1.2:** Modify the code again to **increase the number of terms** in the Taylor series as high as you can go. Visually estimate the **radius of convergence** of the series -- this is the span of $x$-values near $x_0$ for which Taylor series can compute a consistent and reliable approximation."
   ]
  },
  {
   "cell_type": "markdown",
   "id": "ba262cee-8683-443e-a2e0-ca437da9ff62",
   "metadata": {},
   "source": [
    "**/your answer here/**"
   ]
  },
  {
   "cell_type": "markdown",
   "id": "2b3e978e-789f-4c86-a0fc-bcfbe7bd495d",
   "metadata": {},
   "source": [
    "---\n",
    "## Part 2: Computing an exact solution\n",
    "\n",
    "Recall our formula for $V_x$ before we converted it into a more Taylor series-friendly format:\n",
    "\n",
    "$$V_x(x) = \\frac{2kQ}{\\left((x+a)^2 + a^2\\right)^\\frac{1}{2}} + \\frac{2kQ}{\\left((x-a)^2 + a^2\\right)^\\frac{1}{2}}$$"
   ]
  },
  {
   "cell_type": "markdown",
   "id": "aa09dd1b-0d6d-4cdf-8a3e-407f4166b7df",
   "metadata": {},
   "source": [
    "&#9989; **Task 2.1:** Compute the **exact solution** for $V_x$ and **plot it in comparison** with the provided approximations from Part 1.\n",
    "\n",
    "*If you need to original code from Part 1, here it is again to copy as needed.*\n",
    "\n",
    "```\n",
    "a = 1\n",
    "k = 8.99e9\n",
    "Q = 1e-10\n",
    "\n",
    "x_vals = np.linspace(-2 * a, 2 * a, 1000)\n",
    "u_vals = (x_vals / a + 1) ** 2\n",
    "v_vals = (x_vals / a - 1) ** 2\n",
    "u0 = 1\n",
    "v0 = 1\n",
    "\n",
    "approx_fu = fn(u0, 0)\n",
    "approx_fv = fn(v0, 0)\n",
    "\n",
    "N = 10\n",
    "\n",
    "for n in range(1, N + 1, 1):\n",
    "    term_fu = fn(u0, n) / math.factorial(n) * (u_vals - u0) ** n\n",
    "    term_fv = fn(v0, n) / math.factorial(n) * (v_vals - v0) ** n\n",
    "    approx_fu += term_fu\n",
    "    approx_fv += term_fv\n",
    "\n",
    "    approx_Vx = 2 * k * Q / a * (approx_fu + approx_fv)\n",
    "    plt.plot(x_vals, approx_Vx, label=\"n ≤ %d\"%n)\n",
    "```"
   ]
  },
  {
   "cell_type": "code",
   "execution_count": 6,
   "id": "9d6e75df-cfd4-4007-8619-93c0c8aca122",
   "metadata": {},
   "outputs": [],
   "source": [
    "# your answer here"
   ]
  },
  {
   "cell_type": "markdown",
   "id": "17b0ea70-f1fa-4023-a3d5-64d732c397a6",
   "metadata": {},
   "source": [
    "Suppose you didn't know the charge distribution in advance. A function to compute electric potential from **any** collection of charges would be useful in that case. Along the $x$-axis, this is what our general formula for electric potential would be:\n",
    "\n",
    "$$V_x(x) = \\sum_i \\frac{k q_i}{\\left|\\langle x, 0, 0 \\rangle-\\vec{r}_i\\right|} = \\sum_i \\frac{k q_i}{\\left((x-r_{i,x})^2 + r_{i,y}^2 + r_{i,z}^2\\right)^\\frac{1}{2}}$$"
   ]
  },
  {
   "cell_type": "markdown",
   "id": "5dbf5c63-b09e-4617-8c4d-ff146c8aa507",
   "metadata": {},
   "source": [
    "&#9989; **Task 2.2:** Document and create a function to compute $V_x$ at a location $x$ along the $x$-axis, from a list of charge values and a list of position values."
   ]
  },
  {
   "cell_type": "code",
   "execution_count": 7,
   "id": "31eb70ad-7901-4c14-a65d-03bf0ef21311",
   "metadata": {},
   "outputs": [],
   "source": [
    "# your documented function here"
   ]
  },
  {
   "cell_type": "markdown",
   "id": "3ad2c109-81b2-40ce-9c0f-d2aef621c926",
   "metadata": {},
   "source": [
    "#### &#128721; **Stop here and check in with an instructor.**"
   ]
  },
  {
   "cell_type": "markdown",
   "id": "9202b35a-8740-4b46-a659-c0432559f88e",
   "metadata": {},
   "source": [
    "&#9989; **Task 2.3:** Use your function to **compute the electric potential** at provided $x$ values from the provided charge and position values. To verify that you function works properly, **plot your solution in comparison** to your exact solution from Task 2.1.\n",
    "\n",
    "*Note: You don't need to include any Taylor series here. It's just a comparison of two curves.*"
   ]
  },
  {
   "cell_type": "code",
   "execution_count": 8,
   "id": "f94a6399-6643-40f3-b5b6-eae73acdb795",
   "metadata": {},
   "outputs": [],
   "source": [
    "# provided charges and positions\n",
    "# feel free to modify the variable structure below to match your function\n",
    "\n",
    "a = 1\n",
    "k = 8.99e9\n",
    "Q = 1e-10\n",
    "\n",
    "x_vals = np.linspace(-5, 5, 1000)\n",
    "charges = [Q, Q, Q, Q]\n",
    "positions = [[-a, -a, 0], [a, -a, 0], [a, a, 0], [-a, a, 0]]"
   ]
  },
  {
   "cell_type": "code",
   "execution_count": 9,
   "id": "108df360-a4fb-4cba-bd94-f0fbcd217a3e",
   "metadata": {},
   "outputs": [],
   "source": [
    "# your answer here"
   ]
  }
 ],
 "metadata": {
  "kernelspec": {
   "display_name": "Python 3 (ipykernel)",
   "language": "python",
   "name": "python3"
  },
  "language_info": {
   "codemirror_mode": {
    "name": "ipython",
    "version": 3
   },
   "file_extension": ".py",
   "mimetype": "text/x-python",
   "name": "python",
   "nbconvert_exporter": "python",
   "pygments_lexer": "ipython3",
   "version": "3.12.4"
  }
 },
 "nbformat": 4,
 "nbformat_minor": 5
}
