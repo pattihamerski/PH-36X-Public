{
 "cells": [
  {
   "cell_type": "markdown",
   "id": "8348cfab-7513-4bea-8a77-b4d763e09632",
   "metadata": {},
   "source": [
    "# Value, Error, or Nothing?"
   ]
  },
  {
   "cell_type": "code",
   "execution_count": null,
   "id": "84cac467-d0a0-4c16-bc7c-c1c185f27ad6",
   "metadata": {},
   "outputs": [],
   "source": [
    "# 1\n",
    "# value, error, or nothing?\n",
    "\n",
    "def dNdt(N, lamb):\n",
    "    return -lamb * N"
   ]
  },
  {
   "cell_type": "markdown",
   "id": "a0c2df21-144a-4390-9ed1-db4df482072f",
   "metadata": {},
   "source": [
    "<br>\n",
    "<br>\n",
    "<br>\n",
    "<br>\n",
    "<br>\n",
    "<br>\n",
    "<br>\n",
    "<br>"
   ]
  },
  {
   "cell_type": "code",
   "execution_count": null,
   "id": "91898e24-733a-4a3b-99a9-5c9dde1c2d94",
   "metadata": {},
   "outputs": [],
   "source": [
    "# 2\n",
    "# value, error, or nothing?\n",
    "\n",
    "# same dNdt function\n",
    "def dNdt(N, lamb):\n",
    "    return -lamb * N\n",
    "\n",
    "dNdt(40000, 0.002)"
   ]
  },
  {
   "cell_type": "markdown",
   "id": "b5a2b545-8e2b-43de-984c-4eaa4b3d247c",
   "metadata": {},
   "source": [
    "<br>\n",
    "<br>\n",
    "<br>\n",
    "<br>\n",
    "<br>\n",
    "<br>\n",
    "<br>\n",
    "<br>"
   ]
  },
  {
   "cell_type": "code",
   "execution_count": null,
   "id": "b6bdbbb4-ced8-423b-b755-4325ee7c31c0",
   "metadata": {},
   "outputs": [],
   "source": [
    "# 3\n",
    "# value, error, or nothing?\n",
    "\n",
    "# same dNdt function\n",
    "def dNdt(N, lamb):\n",
    "    return -lamb * N\n",
    "\n",
    "dNdt(40000)"
   ]
  },
  {
   "cell_type": "markdown",
   "id": "3c8e8166-754a-4f72-ad90-7ef5bb45cd4d",
   "metadata": {},
   "source": [
    "<br>\n",
    "<br>\n",
    "<br>\n",
    "<br>\n",
    "<br>\n",
    "<br>\n",
    "<br>\n",
    "<br>"
   ]
  },
  {
   "cell_type": "code",
   "execution_count": null,
   "id": "dbc32f77-6f4c-475f-8728-6de1b5bce842",
   "metadata": {},
   "outputs": [],
   "source": [
    "# 4\n",
    "# value, error, or nothing?\n",
    "\n",
    "# NEW: dIdt function\n",
    "def dIdt(I, R=100, C=0.006):\n",
    "    return -I / (R * C)\n",
    "\n",
    "dIdt(0.05)"
   ]
  },
  {
   "cell_type": "markdown",
   "id": "96e69230-6a34-42c7-b789-f16b8e28c009",
   "metadata": {},
   "source": [
    "<br>\n",
    "<br>\n",
    "<br>\n",
    "<br>\n",
    "<br>\n",
    "<br>\n",
    "<br>\n",
    "<br>"
   ]
  },
  {
   "cell_type": "code",
   "execution_count": null,
   "id": "7790b76a-362b-410b-9e0f-97aa4c89896d",
   "metadata": {},
   "outputs": [],
   "source": [
    "# 5\n",
    "# value, error, or nothing?\n",
    "\n",
    "# same dIdt function\n",
    "def dIdt(I, R=100, C=0.006):\n",
    "    return -I / (R * C)\n",
    "\n",
    "dIdt(0.05, 500, 0.006)"
   ]
  },
  {
   "cell_type": "markdown",
   "id": "fb047cb2-f08b-4820-8c99-e30b5135398b",
   "metadata": {},
   "source": [
    "<br>\n",
    "<br>\n",
    "<br>\n",
    "<br>\n",
    "<br>\n",
    "<br>\n",
    "<br>\n",
    "<br>"
   ]
  },
  {
   "cell_type": "code",
   "execution_count": null,
   "id": "b46c5bf5-52ac-4aad-bdd8-1904f304db1a",
   "metadata": {},
   "outputs": [],
   "source": [
    "# 6\n",
    "# value, error, or nothing?\n",
    "\n",
    "# same dIdt function\n",
    "def dIdt(I, R=100, C=0.006):\n",
    "    return -I / (R * C)\n",
    "\n",
    "# NEW: slopes function\n",
    "def slopes(ODE, vals):\n",
    "    results = []\n",
    "    for v in vals:\n",
    "        results.append(ODE(v))\n",
    "    return results\n",
    "\n",
    "slopes(dIdt, 0.05)"
   ]
  },
  {
   "cell_type": "markdown",
   "id": "011c55d6-0a01-4550-8b5d-6c450bdf8b52",
   "metadata": {},
   "source": [
    "<br>\n",
    "<br>\n",
    "<br>\n",
    "<br>\n",
    "<br>\n",
    "<br>\n",
    "<br>\n",
    "<br>"
   ]
  },
  {
   "cell_type": "code",
   "execution_count": null,
   "id": "095f7317-56ee-47c7-95e6-545f55f79ec8",
   "metadata": {},
   "outputs": [],
   "source": [
    "# 7\n",
    "# value, error, or nothing?\n",
    "\n",
    "# same dIdt function\n",
    "def dIdt(I, R=100, C=0.006):\n",
    "    return -I / (R * C)\n",
    "\n",
    "# same slopes function\n",
    "def slopes(ODE, vals):\n",
    "    results = []\n",
    "    for v in vals:\n",
    "        results.append(ODE(v))\n",
    "    return results\n",
    "\n",
    "slopes(dIdt, [0.05, 0.06, 0.07, 0.08, 0.09])"
   ]
  },
  {
   "cell_type": "markdown",
   "id": "831f8aa5-ad07-40b4-bea1-0c4d4b32dc5e",
   "metadata": {},
   "source": [
    "<br>\n",
    "<br>\n",
    "<br>\n",
    "<br>\n",
    "<br>\n",
    "<br>\n",
    "<br>\n",
    "<br>"
   ]
  },
  {
   "cell_type": "code",
   "execution_count": null,
   "id": "5c503854-1dfe-4d36-aac1-e4ae6ce8067b",
   "metadata": {},
   "outputs": [],
   "source": [
    "# 8\n",
    "# value, error, or nothing?\n",
    "\n",
    "# same slopes function\n",
    "def slopes(ODE, vals):\n",
    "    results = []\n",
    "    for v in vals:\n",
    "        results.append(ODE(v))\n",
    "    return results\n",
    "\n",
    "# same dNdt function\n",
    "def dNdt(N, lamb):\n",
    "    return -lamb * N\n",
    "    \n",
    "slopes(dNdt, [40000, 35000, 30000, 25000])"
   ]
  },
  {
   "cell_type": "markdown",
   "id": "498ea0b6-7aa9-4eb9-b383-24864dc1291a",
   "metadata": {},
   "source": [
    "<br>\n",
    "<br>\n",
    "<br>\n",
    "<br>\n",
    "<br>\n",
    "<br>\n",
    "<br>\n",
    "<br>"
   ]
  },
  {
   "cell_type": "code",
   "execution_count": null,
   "id": "93ec7aae-6ebf-4dd7-a85c-b2dc8a76152a",
   "metadata": {},
   "outputs": [],
   "source": [
    "# 9\n",
    "# value, error, or nothing?\n",
    "\n",
    "# same slopes function\n",
    "def slopes(ODE, vals):\n",
    "    results = []\n",
    "    for v in vals:\n",
    "        results.append(ODE(v))\n",
    "    return results\n",
    "\n",
    "# NEW: dNdt function\n",
    "def dNdt(N, lamb=0.002):\n",
    "    return -lamb * N\n",
    "\n",
    "slopes(dNdt, [40000, 35000, 30000, 25000])"
   ]
  }
 ],
 "metadata": {
  "kernelspec": {
   "display_name": "Python 3 (ipykernel)",
   "language": "python",
   "name": "python3"
  },
  "language_info": {
   "codemirror_mode": {
    "name": "ipython",
    "version": 3
   },
   "file_extension": ".py",
   "mimetype": "text/x-python",
   "name": "python",
   "nbconvert_exporter": "python",
   "pygments_lexer": "ipython3",
   "version": "3.12.4"
  }
 },
 "nbformat": 4,
 "nbformat_minor": 5
}
